{
 "cells": [
  {
   "cell_type": "code",
   "execution_count": 2,
   "id": "bfb8f95e-7a5a-4051-ad6e-e202ddb978fb",
   "metadata": {},
   "outputs": [],
   "source": [
    "data = pd.read_excel('data/SampleQuestions.xlsx')"
   ]
  },
  {
   "cell_type": "code",
   "execution_count": 3,
   "id": "c5194398-1697-496e-bdac-59daf0e016a2",
   "metadata": {},
   "outputs": [
    {
     "data": {
      "text/html": [
       "<div>\n",
       "<style scoped>\n",
       "    .dataframe tbody tr th:only-of-type {\n",
       "        vertical-align: middle;\n",
       "    }\n",
       "\n",
       "    .dataframe tbody tr th {\n",
       "        vertical-align: top;\n",
       "    }\n",
       "\n",
       "    .dataframe thead th {\n",
       "        text-align: right;\n",
       "    }\n",
       "</style>\n",
       "<table border=\"1\" class=\"dataframe\">\n",
       "  <thead>\n",
       "    <tr style=\"text-align: right;\">\n",
       "      <th></th>\n",
       "      <th>Question</th>\n",
       "      <th>Ideal Answer</th>\n",
       "    </tr>\n",
       "  </thead>\n",
       "  <tbody>\n",
       "    <tr>\n",
       "      <th>0</th>\n",
       "      <td>What are the documents required to apply for t...</td>\n",
       "      <td>If you have Aadhaar card\\nNo other document is...</td>\n",
       "    </tr>\n",
       "    <tr>\n",
       "      <th>1</th>\n",
       "      <td>What is the cost/fees of a PAN card?</td>\n",
       "      <td>The cost of applying for a new PAN card is Rs ...</td>\n",
       "    </tr>\n",
       "  </tbody>\n",
       "</table>\n",
       "</div>"
      ],
      "text/plain": [
       "                                            Question  \\\n",
       "0  What are the documents required to apply for t...   \n",
       "1               What is the cost/fees of a PAN card?   \n",
       "\n",
       "                                        Ideal Answer  \n",
       "0  If you have Aadhaar card\\nNo other document is...  \n",
       "1  The cost of applying for a new PAN card is Rs ...  "
      ]
     },
     "execution_count": 3,
     "metadata": {},
     "output_type": "execute_result"
    }
   ],
   "source": [
    "data.head(2)"
   ]
  },
  {
   "cell_type": "markdown",
   "id": "4ed72d73-92b4-41b4-8021-659a40c353b6",
   "metadata": {},
   "source": [
    "### Langchain dataLoader"
   ]
  },
  {
   "cell_type": "code",
   "execution_count": 4,
   "id": "1b9ce4e2-f02f-41f2-9c46-cde743169e8d",
   "metadata": {},
   "outputs": [],
   "source": [
    "from langchain.document_loaders import TextLoader\n",
    "\n",
    "loader = TextLoader(\"data/data.txt\")\n",
    "doc = loader.load()"
   ]
  },
  {
   "cell_type": "markdown",
   "id": "a6ace1bc-f747-40b0-b374-ca5f3f2cd5c6",
   "metadata": {},
   "source": [
    "### Splittng the text into multiple paragraphs such that each question consist of single para"
   ]
  },
  {
   "cell_type": "code",
   "execution_count": 5,
   "id": "ea7940c9-29a5-45f1-9f65-8625b108ab50",
   "metadata": {},
   "outputs": [
    {
     "name": "stdout",
     "output_type": "stream",
     "text": [
      "page_content='# About Pan Card\\n\\n### What is Pan card?\\n\\nThe PAN card is a unique ten-digit alphanumeric identification number that is issued by the Income Tax Department of India to track the tax-related transactions of individuals and entities. The PAN card is mandatory for any financial transaction in India, including opening a bank account, buying or selling property, and filing income tax returns.\\n\\n### Who needs a Pan card?\\n\\nAll individuals/non-individuals (including foreign citizens/entities) earning taxable income in India\\xa0must have a PAN card.\\n\\n### Types of PAN cards\\n\\nIn India, two types of PAN cards are available: e-PAN card and physical PAN card.' metadata={'source': 'data/data.txt'}\n",
      "************************************************************************************************************************\n",
      "\n",
      "\n",
      "\n",
      "page_content=\"### Types of PAN cards\\n\\nIn India, two types of PAN cards are available: e-PAN card and physical PAN card.\\n\\n1. e-PAN card: An e-PAN card is a digitally-signed PAN card issued in electronic format. It contains the same PAN details as a physical PAN card but is available in a digital format. It can be downloaded online and used as a valid identification document for various purposes. The e-PAN card is usually issued in a PDF format.\\n2. Physical PAN card: A physical PAN card is a laminated card with your PAN details printed on it. It is a physical document that can be carried and used as a valid identification proof. The physical PAN card is sent to the applicant's registered address by post.\\n\\nBoth e-PAN and physical PAN cards have the same validity and can be used for identification purposes. The choice between the two depends on the applicant's preference and requirements.\\n\\n### **Why do NRIs need PAN card?**\" metadata={'source': 'data/data.txt'}\n",
      "************************************************************************************************************************\n",
      "\n",
      "\n",
      "\n",
      "page_content='### **Why do NRIs need PAN card?**\\n\\nNRIS don’t need to have a PAN Card. However, a PAN Card is necessary for NRIs if they wish to do any of the following in India:\\n\\n1. A PAN card is required to carry out financial transactions such as opening a bank account, investing in stocks, purchasing or selling property, and investing in India.\\n\\n2. If an NRI earns an income in India, they must file income tax returns. A PAN card is necessary to file these returns.\\n\\n3. If an NRI wants to invest in mutual funds in India, they must have a PAN card.\\n\\n## Importance of PAN card for different NRI account options\\n\\nNRI Accounts comprise of NRE,NRO and FCNR Accounts. A basic overview to understand the importance of PAN Card with respect to these three accounts can be understood as:\\n\\n**NRE:**\\xa0For funds earned outside India where both Principal and Interest earned are tax-free. Therefore, NRIs can opt for Form 60, which is a substitute for PAN for opening an NRE Account.' metadata={'source': 'data/data.txt'}\n",
      "************************************************************************************************************************\n",
      "\n",
      "\n",
      "\n"
     ]
    }
   ],
   "source": [
    "from langchain.text_splitter import CharacterTextSplitter\n",
    "text_splitter = CharacterTextSplitter(\n",
    "    separator = \"\\n\\n\",\n",
    "    chunk_size = 1000,\n",
    "    chunk_overlap  = 200,\n",
    "    length_function = len,\n",
    ")\n",
    "texts = text_splitter.split_documents(doc)\n",
    "len(texts)\n",
    "for i in texts[:3]:\n",
    "    print(i)\n",
    "    print(\"**\"*60)\n",
    "    print('\\n\\n')"
   ]
  },
  {
   "cell_type": "markdown",
   "id": "4a158477-4842-4997-960d-88b954f65c6a",
   "metadata": {},
   "source": [
    "### Converting each para into embeddings \n",
    "1. Sentence transformers [384] dimensions\n",
    "2. Open AI [1536] dimensions"
   ]
  },
  {
   "cell_type": "code",
   "execution_count": 6,
   "id": "c75341ce-fedf-41de-a4b7-37180b76df57",
   "metadata": {},
   "outputs": [],
   "source": [
    "from langchain.embeddings import SentenceTransformerEmbeddings\n",
    "from langchain.embeddings import OpenAIEmbeddings\n",
    "\n",
    "# embeddings = SentenceTransformerEmbeddings(model_name=\"all-MiniLM-L6-v2\")\n",
    "embeddings = OpenAIEmbeddings()"
   ]
  },
  {
   "cell_type": "markdown",
   "id": "6cf523a7-6720-48c7-a933-d0923536ca34",
   "metadata": {},
   "source": [
    "#### Storing these Embeddings in Pinecone for fast retrieval \n",
    "Explored:\n",
    "1. Pinecone\n",
    "2. Faiss"
   ]
  },
  {
   "cell_type": "code",
   "execution_count": 7,
   "id": "3fa5c5c5-535f-4a6b-a2df-193006e8d38a",
   "metadata": {},
   "outputs": [
    {
     "name": "stderr",
     "output_type": "stream",
     "text": [
      "/Users/kanavanand/anaconda3/lib/python3.10/site-packages/pinecone/index.py:4: TqdmWarning: IProgress not found. Please update jupyter and ipywidgets. See https://ipywidgets.readthedocs.io/en/stable/user_install.html\n",
      "  from tqdm.autonotebook import tqdm\n"
     ]
    }
   ],
   "source": [
    "import pinecone\n",
    "from langchain.vectorstores import Pinecone\n",
    "\n",
    "pinecone.init(\n",
    "    api_key=os.environ.get('PINE_KEY'),\n",
    "    environment='us-west4-gcp-free'\n",
    ")\n",
    "\n",
    "index_name = 'openai'\n",
    "\n",
    "index = Pinecone.from_existing_index(index_name,embedding=embeddings)"
   ]
  },
  {
   "cell_type": "markdown",
   "id": "4a6d2e70-08ab-4679-83e0-b4fce508583a",
   "metadata": {},
   "source": [
    "#### Getting context from question"
   ]
  },
  {
   "cell_type": "code",
   "execution_count": 8,
   "id": "6c48eba5-01a8-49ce-a1a3-961834822841",
   "metadata": {},
   "outputs": [],
   "source": [
    "def get_similiar_docs(query,k=1,score=False):\n",
    "    if score:\n",
    "        similar_docs = index.similarity_search_with_score(query,k=k)\n",
    "    else:\n",
    "        similar_docs = index.similarity_search(query,k=k)\n",
    "    return similar_docs"
   ]
  },
  {
   "cell_type": "code",
   "execution_count": 9,
   "id": "5c3ebb11-fee8-4e2c-8e67-d8a0ad654921",
   "metadata": {},
   "outputs": [],
   "source": [
    "question=\"What are the charges for pan card details correction?\""
   ]
  },
  {
   "cell_type": "code",
   "execution_count": 10,
   "id": "2eb0233d-f5c3-4efb-a9aa-9131b9fa274f",
   "metadata": {},
   "outputs": [],
   "source": [
    "document = get_similiar_docs(question,1)[0]\n",
    "ctx=document.page_content"
   ]
  },
  {
   "cell_type": "code",
   "execution_count": 11,
   "id": "570fb645-e976-458b-a88e-75a06812ad11",
   "metadata": {},
   "outputs": [
    {
     "data": {
      "text/plain": [
       "Document(page_content='### Cost of new PAN card\\n\\nThe PAN CARD Application through ABC costs Rs 2500 for E-PAN, and if you want it to be couriered, it will cost Rs 1200 extra for physical delivery to your address.\\n\\n- e-PAN Card cost: INR 2500\\n- Physical PAN Card cost: INR 3700\\n\\n### Time required to issue PAN card\\n\\n****If you have Aadhaar card****\\n\\nYou can get a Pan Card instantly\\xa0**(in under 10 minutes)**, if you have an Aadhaar card. You can apply through ABC.\\n\\n********************************************************************If you don’t have an Aadhaar card********************************************************************\\n\\nOnce the payment is made to ABC, we will contact you and initiate the process. Pan card will be issued in 3 weeks.\\n\\n## Updation/Correction in the PAN Card\\n\\n### Information that can be updated in the PAN Card\\n\\n- Your name\\n- Father’s name\\n- Date of Birth\\n- Citizenship\\n- Photograph\\n- Signature\\n- Gender\\n- Address\\n- Contact details\\n\\n### General process to update details on PAN Card', metadata={'source': 'data/text.txt'})"
      ]
     },
     "execution_count": 11,
     "metadata": {},
     "output_type": "execute_result"
    }
   ],
   "source": [
    "document"
   ]
  },
  {
   "cell_type": "code",
   "execution_count": 12,
   "id": "b7882c86-720e-4503-9b00-3bb1bb8e3fa9",
   "metadata": {},
   "outputs": [],
   "source": [
    "from langchain import PromptTemplate\n",
    "\n",
    "question_prompt_template = \"\"\"\n",
    "                    Answer eloboratively the question using the provided context. \\n\\n\n",
    "                    Context: \\n {context} \\n\n",
    "                    Question: \\n {question} \\n\n",
    "                    Answer:\n",
    "                    \"\"\"\n",
    "\n",
    "\n",
    "\n",
    "question_prompt = PromptTemplate(\n",
    "    template=question_prompt_template, input_variables=[\"context\", \"question\"]\n",
    ")"
   ]
  },
  {
   "cell_type": "code",
   "execution_count": 13,
   "id": "024112b0-a833-4c45-9c82-3422530ab659",
   "metadata": {},
   "outputs": [],
   "source": [
    "question=\"What are the charges for pan card details correction?\""
   ]
  },
  {
   "cell_type": "markdown",
   "id": "f77208eb-8ca3-4d31-8cbb-d4e417507f06",
   "metadata": {},
   "source": [
    "### Defining LLM model"
   ]
  },
  {
   "cell_type": "code",
   "execution_count": 14,
   "id": "63743856-d5a8-4ffb-b29f-3a4750b664cd",
   "metadata": {},
   "outputs": [],
   "source": [
    "from langchain.chains import LLMChain\n",
    "from langchain.chat_models import ChatOpenAI\n",
    "\n",
    "llm = ChatOpenAI(model_name=\"gpt-3.5-turbo\", openai_api_key=os.environ.get('OPEN_API_KEY'))\n",
    "chain = LLMChain(llm=llm , prompt=question_prompt)"
   ]
  },
  {
   "cell_type": "markdown",
   "id": "dec57e5b-1528-41bc-9966-e8c52a17ba39",
   "metadata": {},
   "source": [
    "### Final RAG for answering "
   ]
  },
  {
   "cell_type": "code",
   "execution_count": 15,
   "id": "1b8efbb0-5eb5-4a5a-84cd-082932af122c",
   "metadata": {},
   "outputs": [],
   "source": [
    "def RAG(question):\n",
    "    document = get_similiar_docs(question,1)[0]\n",
    "    ctx=document.page_content\n",
    "    return chain.run({\"context\":ctx,\"question\":question})\n"
   ]
  },
  {
   "cell_type": "code",
   "execution_count": 16,
   "id": "364069b6-06d1-43bf-8d54-f1dcaf714af9",
   "metadata": {},
   "outputs": [],
   "source": [
    "def sampleQuestion(idx):\n",
    "    question = data.Question.values[idx]+'?'\n",
    "\n",
    "    document = get_similiar_docs(question,1)[0]\n",
    "    ctx=document.page_content\n",
    "\n",
    "    answer = RAG(question)\n",
    "    print(question)\n",
    "    print('\\n')\n",
    "    print(answer)"
   ]
  },
  {
   "cell_type": "markdown",
   "id": "e3762ee3-fb98-4b23-be3b-848e81514104",
   "metadata": {},
   "source": [
    "## Output"
   ]
  },
  {
   "cell_type": "code",
   "execution_count": 69,
   "id": "a097282a-d9c3-403f-82f0-3c31ad59f6e1",
   "metadata": {},
   "outputs": [
    {
     "name": "stdout",
     "output_type": "stream",
     "text": [
      "What are the documents required to apply for the new pan?\n",
      "\n",
      "\n",
      "The documents required to apply for a new PAN card are:\n",
      "1. If you have an Aadhaar card, no other document is required. You can get your PAN card through your Aadhaar card in 10 minutes.\n",
      "2. If you don't have an Aadhaar card, the following documents are required:\n",
      "   - Passport (Any Country) or OCI Card\n",
      "   - Passport Size Photograph\n",
      "   - Overseas address proof with zip code (Supporting documents - Indian NRO/NRE Account statement or Overseas bank statement or Utility bill)\n"
     ]
    }
   ],
   "source": [
    "sampleQuestion(0)"
   ]
  },
  {
   "cell_type": "code",
   "execution_count": 73,
   "id": "e4e97eb6-3e55-4007-af14-338d7cec417f",
   "metadata": {},
   "outputs": [
    {
     "name": "stdout",
     "output_type": "stream",
     "text": [
      "Can I take the delivery of Pan card at Indian address?\n",
      "\n",
      "\n",
      "Yes, you can take the delivery of your PAN card at an Indian address. While applying for a new PAN card or requesting corrections, you can provide your Indian address as the delivery address. It is important to provide accurate and complete address details to ensure successful delivery.\n"
     ]
    }
   ],
   "source": [
    "sampleQuestion(2)"
   ]
  },
  {
   "cell_type": "code",
   "execution_count": 74,
   "id": "a4b6d052-f986-4812-b68f-841f9cfb0746",
   "metadata": {},
   "outputs": [
    {
     "name": "stdout",
     "output_type": "stream",
     "text": [
      "How long does it usually take to receive the PAN card after applying??\n",
      "\n",
      "\n",
      "The provided context does not mention the specific time required to receive the PAN card after applying.\n"
     ]
    }
   ],
   "source": [
    "sampleQuestion(3)"
   ]
  },
  {
   "cell_type": "code",
   "execution_count": 75,
   "id": "478ea91c-b0ee-45b2-833f-b35a1e3f7703",
   "metadata": {},
   "outputs": [
    {
     "name": "stdout",
     "output_type": "stream",
     "text": [
      "Why do NRIs need PAN card??\n",
      "\n",
      "\n",
      "NRIs need a PAN card for several reasons. Firstly, if they wish to carry out any financial transactions in India such as opening a bank account, investing in stocks, purchasing or selling property, or investing in India, a PAN card is required. This is because the PAN card serves as a unique identification number for individuals in India and is necessary for any financial transaction.\n",
      "\n",
      "Secondly, if an NRI earns an income in India, they are required to file income tax returns. In order to do so, they must have a PAN card. The PAN card is used to link the individual's income and tax payments, ensuring proper taxation and compliance with Indian tax laws.\n",
      "\n",
      "Additionally, if an NRI wants to invest in mutual funds in India, they must possess a PAN card. This is because mutual fund investments are regulated by the Securities and Exchange Board of India (SEBI), and a PAN card is one of the required documents for investing in mutual funds.\n",
      "\n",
      "It is important to note that while NRIs don't necessarily need a PAN card for all their financial activities, it is necessary for specific transactions and investments in India. The PAN card helps the Indian government keep track of financial transactions and ensures that NRIs are complying with tax laws and regulations.\n"
     ]
    }
   ],
   "source": [
    "sampleQuestion(14)"
   ]
  },
  {
   "cell_type": "code",
   "execution_count": 17,
   "id": "60598a5a-3be7-471f-9a8f-adcb5f7ab9cb",
   "metadata": {},
   "outputs": [],
   "source": [
    "def rag_module(question):\n",
    "    question = question+ '?'\n",
    "\n",
    "    document = get_similiar_docs(question,1)[0]\n",
    "    ctx=document.page_content\n",
    "\n",
    "    answer = RAG(question)\n",
    "    return answer"
   ]
  },
  {
   "cell_type": "code",
   "execution_count": null,
   "id": "5f6fbfee-9d00-4fd8-98b4-052968f16ac3",
   "metadata": {},
   "outputs": [],
   "source": []
  }
 ],
 "metadata": {
  "kernelspec": {
   "display_name": "Python 3 (ipykernel)",
   "language": "python",
   "name": "python3"
  },
  "language_info": {
   "codemirror_mode": {
    "name": "ipython",
    "version": 3
   },
   "file_extension": ".py",
   "mimetype": "text/x-python",
   "name": "python",
   "nbconvert_exporter": "python",
   "pygments_lexer": "ipython3",
   "version": "3.10.9"
  }
 },
 "nbformat": 4,
 "nbformat_minor": 5
}
