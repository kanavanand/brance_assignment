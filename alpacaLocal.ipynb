{
 "cells": [
  {
   "cell_type": "code",
   "execution_count": 3,
   "id": "a2e97cb6-ea36-4010-837a-0b8cfe7e2e03",
   "metadata": {},
   "outputs": [],
   "source": [
    "import os\n",
    "import pandas as pd"
   ]
  },
  {
   "cell_type": "code",
   "execution_count": 4,
   "id": "bfb8f95e-7a5a-4051-ad6e-e202ddb978fb",
   "metadata": {},
   "outputs": [],
   "source": [
    "data = pd.read_excel('data/SampleQuestions.xlsx')"
   ]
  },
  {
   "cell_type": "code",
   "execution_count": 5,
   "id": "c5194398-1697-496e-bdac-59daf0e016a2",
   "metadata": {},
   "outputs": [
    {
     "data": {
      "text/html": [
       "<div>\n",
       "<style scoped>\n",
       "    .dataframe tbody tr th:only-of-type {\n",
       "        vertical-align: middle;\n",
       "    }\n",
       "\n",
       "    .dataframe tbody tr th {\n",
       "        vertical-align: top;\n",
       "    }\n",
       "\n",
       "    .dataframe thead th {\n",
       "        text-align: right;\n",
       "    }\n",
       "</style>\n",
       "<table border=\"1\" class=\"dataframe\">\n",
       "  <thead>\n",
       "    <tr style=\"text-align: right;\">\n",
       "      <th></th>\n",
       "      <th>Question</th>\n",
       "      <th>Ideal Answer</th>\n",
       "    </tr>\n",
       "  </thead>\n",
       "  <tbody>\n",
       "    <tr>\n",
       "      <th>0</th>\n",
       "      <td>What are the documents required to apply for t...</td>\n",
       "      <td>If you have Aadhaar card\\nNo other document is...</td>\n",
       "    </tr>\n",
       "    <tr>\n",
       "      <th>1</th>\n",
       "      <td>What is the cost/fees of a PAN card?</td>\n",
       "      <td>The cost of applying for a new PAN card is Rs ...</td>\n",
       "    </tr>\n",
       "  </tbody>\n",
       "</table>\n",
       "</div>"
      ],
      "text/plain": [
       "                                            Question  \\\n",
       "0  What are the documents required to apply for t...   \n",
       "1               What is the cost/fees of a PAN card?   \n",
       "\n",
       "                                        Ideal Answer  \n",
       "0  If you have Aadhaar card\\nNo other document is...  \n",
       "1  The cost of applying for a new PAN card is Rs ...  "
      ]
     },
     "execution_count": 5,
     "metadata": {},
     "output_type": "execute_result"
    }
   ],
   "source": [
    "data.head(2)"
   ]
  },
  {
   "cell_type": "markdown",
   "id": "4ed72d73-92b4-41b4-8021-659a40c353b6",
   "metadata": {},
   "source": [
    "### Langchain dataLoader"
   ]
  },
  {
   "cell_type": "code",
   "execution_count": 6,
   "id": "1b9ce4e2-f02f-41f2-9c46-cde743169e8d",
   "metadata": {},
   "outputs": [],
   "source": [
    "from langchain.document_loaders import TextLoader\n",
    "\n",
    "loader = TextLoader(\"data/data.txt\")\n",
    "doc = loader.load()"
   ]
  },
  {
   "cell_type": "markdown",
   "id": "a6ace1bc-f747-40b0-b374-ca5f3f2cd5c6",
   "metadata": {},
   "source": [
    "### Splittng the text into multiple paragraphs such that each question consist of single para"
   ]
  },
  {
   "cell_type": "code",
   "execution_count": 7,
   "id": "ea7940c9-29a5-45f1-9f65-8625b108ab50",
   "metadata": {},
   "outputs": [
    {
     "name": "stdout",
     "output_type": "stream",
     "text": [
      "page_content='# About Pan Card\\n\\n### What is Pan card?\\n\\nThe PAN card is a unique ten-digit alphanumeric identification number that is issued by the Income Tax Department of India to track the tax-related transactions of individuals and entities. The PAN card is mandatory for any financial transaction in India, including opening a bank account, buying or selling property, and filing income tax returns.\\n\\n### Who needs a Pan card?\\n\\nAll individuals/non-individuals (including foreign citizens/entities) earning taxable income in India\\xa0must have a PAN card.\\n\\n### Types of PAN cards\\n\\nIn India, two types of PAN cards are available: e-PAN card and physical PAN card.' metadata={'source': 'data/data.txt'}\n",
      "************************************************************************************************************************\n",
      "\n",
      "\n",
      "\n",
      "page_content=\"### Types of PAN cards\\n\\nIn India, two types of PAN cards are available: e-PAN card and physical PAN card.\\n\\n1. e-PAN card: An e-PAN card is a digitally-signed PAN card issued in electronic format. It contains the same PAN details as a physical PAN card but is available in a digital format. It can be downloaded online and used as a valid identification document for various purposes. The e-PAN card is usually issued in a PDF format.\\n2. Physical PAN card: A physical PAN card is a laminated card with your PAN details printed on it. It is a physical document that can be carried and used as a valid identification proof. The physical PAN card is sent to the applicant's registered address by post.\\n\\nBoth e-PAN and physical PAN cards have the same validity and can be used for identification purposes. The choice between the two depends on the applicant's preference and requirements.\\n\\n### **Why do NRIs need PAN card?**\" metadata={'source': 'data/data.txt'}\n",
      "************************************************************************************************************************\n",
      "\n",
      "\n",
      "\n",
      "page_content='### **Why do NRIs need PAN card?**\\n\\nNRIS don’t need to have a PAN Card. However, a PAN Card is necessary for NRIs if they wish to do any of the following in India:\\n\\n1. A PAN card is required to carry out financial transactions such as opening a bank account, investing in stocks, purchasing or selling property, and investing in India.\\n\\n2. If an NRI earns an income in India, they must file income tax returns. A PAN card is necessary to file these returns.\\n\\n3. If an NRI wants to invest in mutual funds in India, they must have a PAN card.\\n\\n## Importance of PAN card for different NRI account options\\n\\nNRI Accounts comprise of NRE,NRO and FCNR Accounts. A basic overview to understand the importance of PAN Card with respect to these three accounts can be understood as:\\n\\n**NRE:**\\xa0For funds earned outside India where both Principal and Interest earned are tax-free. Therefore, NRIs can opt for Form 60, which is a substitute for PAN for opening an NRE Account.' metadata={'source': 'data/data.txt'}\n",
      "************************************************************************************************************************\n",
      "\n",
      "\n",
      "\n"
     ]
    }
   ],
   "source": [
    "from langchain.text_splitter import CharacterTextSplitter\n",
    "text_splitter = CharacterTextSplitter(\n",
    "    separator = \"\\n\\n\",\n",
    "    chunk_size = 1000,\n",
    "    chunk_overlap  = 200,\n",
    "    length_function = len,\n",
    ")\n",
    "texts = text_splitter.split_documents(doc)\n",
    "len(texts)\n",
    "for i in texts[:3]:\n",
    "    print(i)\n",
    "    print(\"**\"*60)\n",
    "    print('\\n\\n')"
   ]
  },
  {
   "cell_type": "markdown",
   "id": "4a158477-4842-4997-960d-88b954f65c6a",
   "metadata": {},
   "source": [
    "### Converting each para into embeddings \n",
    "1. Sentence transformers [384] dimensions\n",
    "2. Open AI [1536] dimensions"
   ]
  },
  {
   "cell_type": "code",
   "execution_count": 8,
   "id": "c75341ce-fedf-41de-a4b7-37180b76df57",
   "metadata": {},
   "outputs": [],
   "source": [
    "from langchain.embeddings import SentenceTransformerEmbeddings\n",
    "from langchain.embeddings import OpenAIEmbeddings\n",
    "\n",
    "# embeddings = SentenceTransformerEmbeddings(model_name=\"all-MiniLM-L6-v2\")\n",
    "embeddings = OpenAIEmbeddings()"
   ]
  },
  {
   "cell_type": "markdown",
   "id": "6cf523a7-6720-48c7-a933-d0923536ca34",
   "metadata": {},
   "source": [
    "#### Storing these Embeddings in Pinecone for fast retrieval \n",
    "Explored:\n",
    "1. Pinecone\n",
    "2. Faiss"
   ]
  },
  {
   "cell_type": "code",
   "execution_count": 9,
   "id": "3fa5c5c5-535f-4a6b-a2df-193006e8d38a",
   "metadata": {},
   "outputs": [
    {
     "name": "stderr",
     "output_type": "stream",
     "text": [
      "/Users/kanavanand/anaconda3/lib/python3.10/site-packages/pinecone/index.py:4: TqdmWarning: IProgress not found. Please update jupyter and ipywidgets. See https://ipywidgets.readthedocs.io/en/stable/user_install.html\n",
      "  from tqdm.autonotebook import tqdm\n"
     ]
    }
   ],
   "source": [
    "import pinecone\n",
    "from langchain.vectorstores import Pinecone\n",
    "\n",
    "pinecone.init(\n",
    "    api_key=os.environ.get('PINE_KEY'),\n",
    "    environment='us-west4-gcp-free'\n",
    ")\n",
    "\n",
    "index_name = 'openai'\n",
    "\n",
    "index = Pinecone.from_existing_index(index_name,embedding=embeddings)"
   ]
  },
  {
   "cell_type": "markdown",
   "id": "4a6d2e70-08ab-4679-83e0-b4fce508583a",
   "metadata": {},
   "source": [
    "#### Getting context from question"
   ]
  },
  {
   "cell_type": "code",
   "execution_count": 10,
   "id": "6c48eba5-01a8-49ce-a1a3-961834822841",
   "metadata": {},
   "outputs": [],
   "source": [
    "def get_similiar_docs(query,k=1,score=False):\n",
    "    if score:\n",
    "        similar_docs = index.similarity_search_with_score(query,k=k)\n",
    "    else:\n",
    "        similar_docs = index.similarity_search(query,k=k)\n",
    "    return similar_docs"
   ]
  },
  {
   "cell_type": "code",
   "execution_count": 11,
   "id": "5c3ebb11-fee8-4e2c-8e67-d8a0ad654921",
   "metadata": {},
   "outputs": [],
   "source": [
    "question=\"What are the charges for pan card details correction?\""
   ]
  },
  {
   "cell_type": "code",
   "execution_count": 12,
   "id": "2eb0233d-f5c3-4efb-a9aa-9131b9fa274f",
   "metadata": {},
   "outputs": [],
   "source": [
    "document = get_similiar_docs(question,1)[0]\n",
    "ctx=document.page_content"
   ]
  },
  {
   "cell_type": "code",
   "execution_count": 13,
   "id": "570fb645-e976-458b-a88e-75a06812ad11",
   "metadata": {},
   "outputs": [
    {
     "data": {
      "text/plain": [
       "Document(page_content='### Cost of new PAN card\\n\\nThe PAN CARD Application through ABC costs Rs 2500 for E-PAN, and if you want it to be couriered, it will cost Rs 1200 extra for physical delivery to your address.\\n\\n- e-PAN Card cost: INR 2500\\n- Physical PAN Card cost: INR 3700\\n\\n### Time required to issue PAN card\\n\\n****If you have Aadhaar card****\\n\\nYou can get a Pan Card instantly\\xa0**(in under 10 minutes)**, if you have an Aadhaar card. You can apply through ABC.\\n\\n********************************************************************If you don’t have an Aadhaar card********************************************************************\\n\\nOnce the payment is made to ABC, we will contact you and initiate the process. Pan card will be issued in 3 weeks.\\n\\n## Updation/Correction in the PAN Card\\n\\n### Information that can be updated in the PAN Card\\n\\n- Your name\\n- Father’s name\\n- Date of Birth\\n- Citizenship\\n- Photograph\\n- Signature\\n- Gender\\n- Address\\n- Contact details\\n\\n### General process to update details on PAN Card', metadata={'source': 'data/text.txt'})"
      ]
     },
     "execution_count": 13,
     "metadata": {},
     "output_type": "execute_result"
    }
   ],
   "source": [
    "document"
   ]
  },
  {
   "cell_type": "code",
   "execution_count": 14,
   "id": "b7882c86-720e-4503-9b00-3bb1bb8e3fa9",
   "metadata": {},
   "outputs": [],
   "source": [
    "from langchain import PromptTemplate\n",
    "\n",
    "question_prompt_template = \"\"\"\n",
    "                    Answer eloboratively the question using the provided context. \\n\\n\n",
    "                    Context: \\n {context} \\n\n",
    "                    Question: \\n {question} \\n\n",
    "                    Answer:\n",
    "                    \"\"\"\n",
    "\n",
    "\n",
    "\n",
    "question_prompt = PromptTemplate(\n",
    "    template=question_prompt_template, input_variables=[\"context\", \"question\"]\n",
    ")"
   ]
  },
  {
   "cell_type": "code",
   "execution_count": 15,
   "id": "024112b0-a833-4c45-9c82-3422530ab659",
   "metadata": {},
   "outputs": [],
   "source": [
    "question=\"What are the charges for pan card details correction?\""
   ]
  },
  {
   "cell_type": "markdown",
   "id": "f77208eb-8ca3-4d31-8cbb-d4e417507f06",
   "metadata": {},
   "source": [
    "### Defining LLM model"
   ]
  },
  {
   "cell_type": "code",
   "execution_count": 16,
   "id": "c7d53bdc-803e-4327-9ac6-bdc73af9242c",
   "metadata": {},
   "outputs": [
    {
     "name": "stderr",
     "output_type": "stream",
     "text": [
      "llama.cpp: loading model from ggml-alpaca-7b-q4.bin\n",
      "llama.cpp: can't use mmap because tensors are not aligned; convert to new format to avoid this\n",
      "llama_model_load_internal: format     = 'ggml' (old version with low tokenizer quality and no mmap support)\n",
      "llama_model_load_internal: n_vocab    = 32000\n",
      "llama_model_load_internal: n_ctx      = 512\n",
      "llama_model_load_internal: n_embd     = 4096\n",
      "llama_model_load_internal: n_mult     = 256\n",
      "llama_model_load_internal: n_head     = 32\n",
      "llama_model_load_internal: n_layer    = 32\n",
      "llama_model_load_internal: n_rot      = 128\n",
      "llama_model_load_internal: ftype      = 2 (mostly Q4_0)\n",
      "llama_model_load_internal: n_ff       = 11008\n",
      "llama_model_load_internal: n_parts    = 1\n",
      "llama_model_load_internal: model size = 7B\n",
      "llama_model_load_internal: ggml ctx size = 4113739.11 KB\n",
      "llama_model_load_internal: mem required  = 5809.32 MB (+ 1026.00 MB per state)\n",
      "...................................................................................................\n",
      ".\n",
      "llama_init_from_file: kv self size  =  256.00 MB\n",
      "AVX = 0 | AVX2 = 0 | AVX512 = 0 | AVX512_VBMI = 0 | AVX512_VNNI = 0 | FMA = 0 | NEON = 1 | ARM_FMA = 1 | F16C = 0 | FP16_VA = 1 | WASM_SIMD = 0 | BLAS = 1 | SSE3 = 0 | VSX = 0 | \n"
     ]
    }
   ],
   "source": [
    "from llama_cpp import Llama\n",
    "from huggingface_hub import hf_hub_download\n",
    "llm = Llama(model_path=\"ggml-alpaca-7b-q4.bin\")"
   ]
  },
  {
   "cell_type": "code",
   "execution_count": 17,
   "id": "3f1b14ab-a402-4467-bb9e-9165304b4ea3",
   "metadata": {},
   "outputs": [],
   "source": [
    "def localLLM(context,question):\n",
    "    ins = '''Answer eloboratively the question using the provided context. \\n\\n \n",
    "    Context:{0}\n",
    "\n",
    "    Question:  {1}?\n",
    "    '''\n",
    "    instruction = ins.format(context[0][:800] , question)\n",
    "    result=\"\"\n",
    "    for x in llm(instruction, stream=True, temperature=0.1, top_p=0.95, top_k=40):\n",
    "        result += x['choices'][0]['text']\n",
    "\n",
    "    return result"
   ]
  },
  {
   "cell_type": "markdown",
   "id": "dec57e5b-1528-41bc-9966-e8c52a17ba39",
   "metadata": {},
   "source": [
    "### Final RAG for answering "
   ]
  },
  {
   "cell_type": "code",
   "execution_count": 18,
   "id": "1b8efbb0-5eb5-4a5a-84cd-082932af122c",
   "metadata": {},
   "outputs": [],
   "source": [
    "def RAG(question):\n",
    "    document = get_similiar_docs(question,1)[0]\n",
    "    ctx=document.page_content\n",
    "    return localLLM(ctx,question)\n"
   ]
  },
  {
   "cell_type": "code",
   "execution_count": 19,
   "id": "364069b6-06d1-43bf-8d54-f1dcaf714af9",
   "metadata": {},
   "outputs": [],
   "source": [
    "def sampleQuestion(idx):\n",
    "    question = data.Question.values[idx]+'?'\n",
    "    answer = RAG(question)\n",
    "    print(question)\n",
    "    print('\\n')\n",
    "    print(answer)\n",
    "    return answer"
   ]
  },
  {
   "cell_type": "markdown",
   "id": "e3762ee3-fb98-4b23-be3b-848e81514104",
   "metadata": {},
   "source": [
    "## Output"
   ]
  },
  {
   "cell_type": "code",
   "execution_count": 20,
   "id": "a097282a-d9c3-403f-82f0-3c31ad59f6e1",
   "metadata": {},
   "outputs": [
    {
     "name": "stdout",
     "output_type": "stream",
     "text": [
      "What are the documents required to apply for the new pan?\n",
      "\n",
      "\n",
      "Answer: The documents required to apply for a new PAN card include proof of identity, proof of address and two passport-size photographs.\n"
     ]
    },
    {
     "data": {
      "text/plain": [
       "'Answer: The documents required to apply for a new PAN card include proof of identity, proof of address and two passport-size photographs.'"
      ]
     },
     "execution_count": 20,
     "metadata": {},
     "output_type": "execute_result"
    }
   ],
   "source": [
    "sampleQuestion(0)"
   ]
  },
  {
   "cell_type": "code",
   "execution_count": 21,
   "id": "e4e97eb6-3e55-4007-af14-338d7cec417f",
   "metadata": {},
   "outputs": [
    {
     "name": "stdout",
     "output_type": "stream",
     "text": [
      "Can I take the delivery of Pan card at Indian address?\n",
      "\n",
      "\n",
      "Answer: Yes, you can take the delivery of your Pan card at an Indian address.\n"
     ]
    },
    {
     "data": {
      "text/plain": [
       "'Answer: Yes, you can take the delivery of your Pan card at an Indian address.'"
      ]
     },
     "execution_count": 21,
     "metadata": {},
     "output_type": "execute_result"
    }
   ],
   "source": [
    "sampleQuestion(2)"
   ]
  },
  {
   "cell_type": "code",
   "execution_count": 46,
   "id": "a4b6d052-f986-4812-b68f-841f9cfb0746",
   "metadata": {},
   "outputs": [
    {
     "name": "stdout",
     "output_type": "stream",
     "text": [
      "How long does it usually take to receive the PAN card after applying??\n",
      "\n",
      "\n",
      "Answer:It usually takes about 10-15 days to receive the PASS card after applying.\n"
     ]
    }
   ],
   "source": [
    "sampleQuestion(3)"
   ]
  },
  {
   "cell_type": "code",
   "execution_count": 47,
   "id": "478ea91c-b0ee-45b2-833f-b35a1e3f7703",
   "metadata": {},
   "outputs": [
    {
     "name": "stdout",
     "output_type": "stream",
     "text": [
      "Why do NRIs need PAN card??\n",
      "\n",
      "\n",
      "Answer:NRIs need a PAN card to fulfill their income tax obligations in India, as well as to open bank accounts and invest in Indian financial instruments. It also serves as an identity and address proof for various official purposes.\n"
     ]
    }
   ],
   "source": [
    "sampleQuestion(14)"
   ]
  },
  {
   "cell_type": "code",
   "execution_count": 22,
   "id": "c8cd9d5a-967c-4343-90e2-d731eb3f496c",
   "metadata": {},
   "outputs": [
    {
     "name": "stdout",
     "output_type": "stream",
     "text": [
      "What are the documents required to apply for the new pan?\n",
      "\n",
      "\n",
      "Answer: The documents required to apply for a new PAN card are an application in the prescribed form, proof of identity such as passport or driver's license, proof of address such as bank statement or utility bill, and a recent photograph.\n",
      "What is the cost/fees of a PAN card??\n",
      "\n",
      "\n",
      "Answer: The cost/fees for a PAN card varies depending on the type of card and the processing charges. Generally, the cost includes a one-time application fee, an annual maintenance fee, and other miscellaneous charges.\n",
      "Can I take the delivery of Pan card at Indian address?\n",
      "\n",
      "\n",
      "Answer: Yes, you can take the delivery of your Pan card at your Indian address.\n",
      "How long does it usually take to receive the PAN card after applying??\n",
      "\n",
      "\n",
      "Answer:It usually takes about 10-15 days to receive the PASS card after applying.\n",
      "How to apply for PAN card?\n",
      "\n",
      "\n",
      "Answer: To apply for a PASS Card, you will need to fill out an application form and provide proof of identity and nationality such as a birth certificate or passport. You can submit the form and documents in person at your nearest Passport Office or by post. The application process and fees may vary depending on your country of residence.\n",
      "What is the process to apply for PAN card?\n",
      "\n",
      "\n",
      "Answer: The process to apply for a PASS card includes completing an application form, providing proof of identity and nationality, attending an interview, and submitting relevant documents.\n",
      "Can I apply for a PAN card if I am a non-resident Indian (NRI)??\n",
      "\n",
      "\n",
      "Answer: Yes, you can apply for a PAN card if you are a Non-Resident Indian (NRI).\n",
      "Can I apply for pan card without Aadhaar??\n",
      "\n",
      "\n",
      "Answer:Yes, you can apply for a PAN card without Aadhaar, but you will have to provide alternative documents such as passport, driver's license, Voter ID card or bank statement as proof of identity and address.\n",
      "What are the charges of linking Pan & Aadhaar?\n",
      "\n",
      "\n",
      "\n",
      "Answer: The charges for linking Aadhaar and PAN are Rs. 50 per transaction, plus applicable taxes.\n",
      "How long does Pan & Aadhaar linking take?\n",
      "\n",
      "\n",
      "Answer:Pan & Aadhaar linking takes about 10-15 minutes depending on the system and the number of people in the queue.\n",
      "Is Aadhaar-Pan linking mandatory for the NRIs?\n",
      "\n",
      "\n",
      "Answer: Yes, it is mandatory for Non-Resident Indians (NRIs) to link their Aadhaar and Permanent Account Number (PAN) before filing income tax returns.\n",
      "Can the linking be done online, or do I need to visit a service center??\n",
      "\n",
      "\n",
      "Answer:You can do it online through your account, or you can visit a service center if you prefer.\n",
      "Who needs a Pan card??\n",
      "\n",
      "\n",
      "Answer: Everyone who is an Indian citizen and is above the age of 18 years needs a PAN card. It is required for income tax purposes, to open a bank account, to buy or sell property, and for other official purposes.\n",
      "How many types of PAN cards are there??\n",
      "\n",
      "\n",
      "Answer: There are three types of PAN cards - Individual, Joint and Corporate.\n",
      "Why do NRIs need PAN card??\n",
      "\n",
      "\n",
      "Answer:NRIs need a PAN card to fulfill various financial and legal requirements in India, such as filing income tax returns, opening bank accounts, investing in stocks and bonds, and registering property. It also serves as an identity and address proof for NRIs when they are visiting India.\n",
      "Is PAN card required to open an NRI account??\n",
      "\n",
      "\n",
      "Answer: Yes, a PAN card is required to open an NRI account.\n",
      "How can an NRI apply for a new PAN card??\n",
      "\n",
      "\n",
      "Answer: An Non-Resident Indian (NRIs) can apply for a new Person of Indian Origin (PIO) card by submitting an application to the nearest Indian mission or post along with the required documents and fees. The PIO card is valid for 15 years or until the holder turns 65 years old, whichever is earlier.\n",
      "What is the process to update details on PAN Card??\n",
      "\n",
      "\n",
      "Answer: The process to update details on a PAN card depends on the type of change required. If the change involves name, date of birth or gender, then the cardholder needs to submit an application for a new PAN card with the updated particulars. For any other changes, the cardholder can simply inform the Income Tax Department and the necessary amendments will be made in their records.\n",
      "Process to change the citizenship on PAN Card?\n",
      "\n",
      "\n",
      "Answer: The process for changing a citizen's status on a PAN card depends on the type of change being requested. If the change is related to name, date of birth or gender, then it can be done by submitting a request form along with relevant documents to the local income tax office. For any other changes, such as address or profession, an application needs to be submitted to the Central Government.\n",
      "Time required to update the citizenship status on PAN Card?\n",
      "\n",
      "\n",
      "Answer: The time required to update the citizenship status on a PAN card depends upon the process adopted by the government at the time of updating the status. Generally, it takes around 15-20 days for the process to be completed.\n",
      "Process to link PAN with Aadhaar?\n",
      "\n",
      "\n",
      "Answer: The process to link a PAN card with an Aadhaar number is simple and can be done online. First, you need to visit the UIDAI website and click on ‘Link Aadhaar’. Then enter your PAN number, Aadhaar number and other details as required. After verifying the information, you will receive a confirmation message that your linking process is complete.\n",
      "What are the documents required to link PAN with Aadhaar??\n",
      "\n",
      "\n",
      "Answer: The documents required to link PAN with Aadhaar are PAN card, Aadhaar card and a copy of the recent utility bill.\n",
      "I want to change my Father's name on the pan card what's the process??\n",
      "\n",
      "\n",
      "\n",
      "Answer: The process of changing a father’s name on a Pan Card is as follows:\n",
      "1. First, the applicant must fill out the form for the amendment of particulars in the permanent account number (PAN) card. \n",
      "2. Then, the applicant has to submit the form along with relevant documents such as birth certificate, marriage certificate and/or death certificate to the Income Tax Department’s office. \n",
      "3. After verifying the documents, the Income Tax Department will make the necessary changes in the PAN card. \n",
      "4. The applicant must then get\n",
      "I want to change my DOB on the pan card what's the process? ?\n",
      "\n",
      "\n",
      "Answer: The process for changing your date of birth (DOB) on a PAN card is as follows: \n",
      "1. Fill out the form for making corrections in the particulars of an individual’s PAN card.\n",
      "2. Attach relevant documents such as birth certificate, passport, etc. to prove the change in DOB.\n",
      "3. Submit the form and documents at any income tax office or authorized PAN service center. \n",
      "4. Pay the applicable fee.\n",
      "5. Once the application is processed, you will receive a new PAN card with the changed details.\n",
      "Do my pan number get changes in reissue of Pan card?\n",
      "\n",
      "\n",
      "Answer: Yes, your PAN number will be changed in the reissue of Pan card.\n",
      "Document requirement for pan card details correction?\n",
      "\n",
      "\n",
      "Answer: The document requirements for PAN Card details correction are as follows: \n",
      "1. For an individual applicant, any one of the following documents is required: passport, driver’s license, Aadhaar card or Voter ID card. \n",
      "2. For a company or HUF applicant, any two of the following documents are required: certificate of incorporation, deed of partnership, registration certificate or trust deed.\n",
      "What are the charges for pan card details correction?\n",
      "\n",
      "\n",
      "Answer: The charges for PAN Card details correction vary depending on the nature of the correction required and the jurisdiction in which the PAN Card holder resides. Generally, the charges range from INR 50 to INR 100.\n",
      "I want to reprint the pan card what's the process of it??\n",
      "\n",
      "\n",
      "Answer: The process for reprinting a Pan Card is as follows: \n",
      "1. Visit any of the TCS/Axis Bank branches along with your original Pan Card and valid photo identification. \n",
      "2. Fill in the requisite form and submit it along with the applicable fee. \n",
      "3. Once the application has been processed, you will receive an email or SMS confirming the reprinting of your Pan Card.\n",
      "Documents required for reprinting PAN card?\n",
      "\n",
      "\n",
      "Answer:  The documents required for reprinting a PAN card are proof of identity, proof of address and two passport-size photographs.\n",
      "How long does the process for reprinting pan card take?\n",
      "\n",
      "\n",
      "Answer:The process for reprinting a PAN card takes about 10-15 days, depending on the processing speed of the income tax department.\n",
      "what are the charges for reprinting pan card?\n",
      "\n",
      "\n",
      "Answer: The charges for reprinting PAN Card depends on the issuing authority but typically range from Rs. 50 to Rs. 100.\n",
      "Can I take the delivery of Pan card at Indian address??\n",
      "\n",
      "\n",
      "Answer: Yes, you can take the delivery of your Pan card at your Indian address.\n",
      "Can I apply for pan card without Aadhaar??\n",
      "\n",
      "\n",
      "Answer:Yes, you can apply for a PAN card without Aadhaar, but you will have to provide alternative documents such as passport, driving license, Voter ID card or bank account details for verification.\n",
      "Can I apply for a PAN card if I am a non-resident Indian (NRI)??\n",
      "\n",
      "\n",
      "Answer: Yes, you can apply for a PAN card if you are a Non-Resident Indian (NRI).\n"
     ]
    }
   ],
   "source": [
    "results=[]\n",
    "for i in range(len(data)):\n",
    "    results.append(sampleQuestion(i))"
   ]
  },
  {
   "cell_type": "code",
   "execution_count": 23,
   "id": "1d23fede-2a4b-48a8-8343-8f8b0c5d0ecb",
   "metadata": {},
   "outputs": [],
   "source": [
    "data['modelPrediction'] = results"
   ]
  },
  {
   "cell_type": "code",
   "execution_count": 24,
   "id": "29860e7d-65b3-4362-89e9-0034fac33a3b",
   "metadata": {},
   "outputs": [
    {
     "name": "stdout",
     "output_type": "stream",
     "text": [
      "How long does it usually take to receive the PAN card after applying?\n",
      "\n",
      "\n",
      "Once the payment is made, we will contact you and initiate the process. Pan card will be issued in 3 weeks after submitting the application. \n",
      "\n",
      "(You can get an e-Pan Card in under 10 minutes, if you have an Aadhaar card.)\n",
      "\n",
      "\n",
      "Answer:It usually takes about 10-15 days to receive the PASS card after applying.\n",
      "\n",
      "\n"
     ]
    }
   ],
   "source": [
    "for i in data.values[3]:\n",
    "    print(i)\n",
    "    print('\\n')"
   ]
  },
  {
   "cell_type": "markdown",
   "id": "b9e03ada-d47a-4855-87b3-1407456930e9",
   "metadata": {},
   "source": [
    "### calculating bleu score"
   ]
  },
  {
   "cell_type": "code",
   "execution_count": 28,
   "id": "d71d5631-c840-4080-9094-f4b5b512123d",
   "metadata": {},
   "outputs": [],
   "source": [
    "import nltk\n",
    "from nltk.translate.bleu_score import sentence_bleu\n",
    "\n",
    "def bleu_scorer(reference,candidate):\n",
    "    # Convert sentences to lists of tokens\n",
    "    reference_tokens = [reference.split()]\n",
    "    candidate_tokens = candidate.split()\n",
    "\n",
    "    # Calculate BLEU score\n",
    "    bleu_score = sentence_bleu(reference_tokens, candidate_tokens)\n",
    "\n",
    "    return bleu_score\n"
   ]
  },
  {
   "cell_type": "code",
   "execution_count": 43,
   "id": "3214c45b-f064-4595-8029-25f7f400237b",
   "metadata": {},
   "outputs": [],
   "source": [
    "score =[]\n",
    "for i in data.values:\n",
    "    score.append(bleu_scorer(i[1].lower(),i[2].lower()))"
   ]
  },
  {
   "cell_type": "code",
   "execution_count": 44,
   "id": "84998073-eda5-4c07-8d7e-6002ab64c764",
   "metadata": {},
   "outputs": [],
   "source": [
    "data['bleu_score'] = score"
   ]
  },
  {
   "cell_type": "code",
   "execution_count": 45,
   "id": "071c9ded-a4d9-45a1-a517-8ba293474c8a",
   "metadata": {},
   "outputs": [
    {
     "data": {
      "text/plain": [
       "0.03096415971289323"
      ]
     },
     "execution_count": 45,
     "metadata": {},
     "output_type": "execute_result"
    }
   ],
   "source": [
    "data.bleu_score.mean()"
   ]
  },
  {
   "cell_type": "code",
   "execution_count": 47,
   "id": "5d0ccaa4-4a1d-4426-a9bf-f03159930b39",
   "metadata": {},
   "outputs": [],
   "source": [
    "import nltk\n",
    "from nltk.translate.bleu_score import sentence_bleu\n",
    "from nltk.translate import gleu_score\n",
    "\n",
    "\n",
    "def gleu_scorer(reference,candidate):\n",
    "    # Tokenize sentences\n",
    "    reference_tokens = reference.split()\n",
    "    candidate_tokens = candidate.split()\n",
    "\n",
    "    # Calculate GLEU score\n",
    "    gleu_score_ = gleu_score.sentence_gleu([reference_tokens], candidate_tokens)\n",
    "\n",
    "    return gleu_score_\n"
   ]
  },
  {
   "cell_type": "code",
   "execution_count": 48,
   "id": "47afd6fe-8aa8-4ca4-9ed4-7d56973ee553",
   "metadata": {},
   "outputs": [],
   "source": [
    "score =[]\n",
    "for i in data.values:\n",
    "    score.append(gleu_scorer(i[1].lower(),i[2].lower()))\n",
    "data['gleu_score'] = score"
   ]
  },
  {
   "cell_type": "code",
   "execution_count": 49,
   "id": "73d1c75f-237c-46bf-9ec8-541061f2108c",
   "metadata": {},
   "outputs": [
    {
     "data": {
      "text/plain": [
       "0.09246692733865593"
      ]
     },
     "execution_count": 49,
     "metadata": {},
     "output_type": "execute_result"
    }
   ],
   "source": [
    "data.gleu_score.mean()"
   ]
  },
  {
   "cell_type": "code",
   "execution_count": 46,
   "id": "28dc7008-e36f-4377-8921-8253cfc70abe",
   "metadata": {},
   "outputs": [],
   "source": [
    "data.to_csv('results/alpaca_results.csv',index=None)"
   ]
  },
  {
   "cell_type": "code",
   "execution_count": null,
   "id": "01e14f30-5abd-49d5-91d3-2047ca67e41a",
   "metadata": {},
   "outputs": [],
   "source": []
  },
  {
   "cell_type": "code",
   "execution_count": null,
   "id": "3032dd82-20aa-4095-a7c9-713fea3f5c63",
   "metadata": {},
   "outputs": [],
   "source": []
  },
  {
   "cell_type": "code",
   "execution_count": null,
   "id": "16701d29-0186-4a97-8612-74709b146087",
   "metadata": {},
   "outputs": [],
   "source": []
  }
 ],
 "metadata": {
  "kernelspec": {
   "display_name": "Python 3 (ipykernel)",
   "language": "python",
   "name": "python3"
  },
  "language_info": {
   "codemirror_mode": {
    "name": "ipython",
    "version": 3
   },
   "file_extension": ".py",
   "mimetype": "text/x-python",
   "name": "python",
   "nbconvert_exporter": "python",
   "pygments_lexer": "ipython3",
   "version": "3.10.9"
  }
 },
 "nbformat": 4,
 "nbformat_minor": 5
}
