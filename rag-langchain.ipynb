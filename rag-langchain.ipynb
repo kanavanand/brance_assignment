{
 "cells": [
  {
   "cell_type": "code",
   "execution_count": 8,
   "id": "a2e97cb6-ea36-4010-837a-0b8cfe7e2e03",
   "metadata": {},
   "outputs": [],
   "source": [
    "import os\n",
    "import pandas as pd"
   ]
  },
  {
   "cell_type": "code",
   "execution_count": 9,
   "id": "bfb8f95e-7a5a-4051-ad6e-e202ddb978fb",
   "metadata": {},
   "outputs": [],
   "source": [
    "data = pd.read_excel('data/SampleQuestions.xlsx')"
   ]
  },
  {
   "cell_type": "code",
   "execution_count": 10,
   "id": "c5194398-1697-496e-bdac-59daf0e016a2",
   "metadata": {},
   "outputs": [
    {
     "data": {
      "text/html": [
       "<div>\n",
       "<style scoped>\n",
       "    .dataframe tbody tr th:only-of-type {\n",
       "        vertical-align: middle;\n",
       "    }\n",
       "\n",
       "    .dataframe tbody tr th {\n",
       "        vertical-align: top;\n",
       "    }\n",
       "\n",
       "    .dataframe thead th {\n",
       "        text-align: right;\n",
       "    }\n",
       "</style>\n",
       "<table border=\"1\" class=\"dataframe\">\n",
       "  <thead>\n",
       "    <tr style=\"text-align: right;\">\n",
       "      <th></th>\n",
       "      <th>Question</th>\n",
       "      <th>Ideal Answer</th>\n",
       "    </tr>\n",
       "  </thead>\n",
       "  <tbody>\n",
       "    <tr>\n",
       "      <th>0</th>\n",
       "      <td>What are the documents required to apply for t...</td>\n",
       "      <td>If you have Aadhaar card\\nNo other document is...</td>\n",
       "    </tr>\n",
       "    <tr>\n",
       "      <th>1</th>\n",
       "      <td>What is the cost/fees of a PAN card?</td>\n",
       "      <td>The cost of applying for a new PAN card is Rs ...</td>\n",
       "    </tr>\n",
       "  </tbody>\n",
       "</table>\n",
       "</div>"
      ],
      "text/plain": [
       "                                            Question  \\\n",
       "0  What are the documents required to apply for t...   \n",
       "1               What is the cost/fees of a PAN card?   \n",
       "\n",
       "                                        Ideal Answer  \n",
       "0  If you have Aadhaar card\\nNo other document is...  \n",
       "1  The cost of applying for a new PAN card is Rs ...  "
      ]
     },
     "execution_count": 10,
     "metadata": {},
     "output_type": "execute_result"
    }
   ],
   "source": [
    "data.head(2)"
   ]
  },
  {
   "cell_type": "markdown",
   "id": "4ed72d73-92b4-41b4-8021-659a40c353b6",
   "metadata": {},
   "source": [
    "### Langchain dataLoader"
   ]
  },
  {
   "cell_type": "code",
   "execution_count": 11,
   "id": "1b9ce4e2-f02f-41f2-9c46-cde743169e8d",
   "metadata": {},
   "outputs": [],
   "source": [
    "from langchain.document_loaders import TextLoader\n",
    "\n",
    "loader = TextLoader(\"data/data.txt\")\n",
    "doc = loader.load()"
   ]
  },
  {
   "cell_type": "markdown",
   "id": "a6ace1bc-f747-40b0-b374-ca5f3f2cd5c6",
   "metadata": {},
   "source": [
    "### Splittng the text into multiple paragraphs such that each question consist of single para"
   ]
  },
  {
   "cell_type": "code",
   "execution_count": 12,
   "id": "ea7940c9-29a5-45f1-9f65-8625b108ab50",
   "metadata": {},
   "outputs": [
    {
     "name": "stdout",
     "output_type": "stream",
     "text": [
      "page_content='# About Pan Card\\n\\n### What is Pan card?\\n\\nThe PAN card is a unique ten-digit alphanumeric identification number that is issued by the Income Tax Department of India to track the tax-related transactions of individuals and entities. The PAN card is mandatory for any financial transaction in India, including opening a bank account, buying or selling property, and filing income tax returns.\\n\\n### Who needs a Pan card?\\n\\nAll individuals/non-individuals (including foreign citizens/entities) earning taxable income in India\\xa0must have a PAN card.\\n\\n### Types of PAN cards\\n\\nIn India, two types of PAN cards are available: e-PAN card and physical PAN card.' metadata={'source': 'data/data.txt'}\n",
      "************************************************************************************************************************\n",
      "\n",
      "\n",
      "\n",
      "page_content=\"### Types of PAN cards\\n\\nIn India, two types of PAN cards are available: e-PAN card and physical PAN card.\\n\\n1. e-PAN card: An e-PAN card is a digitally-signed PAN card issued in electronic format. It contains the same PAN details as a physical PAN card but is available in a digital format. It can be downloaded online and used as a valid identification document for various purposes. The e-PAN card is usually issued in a PDF format.\\n2. Physical PAN card: A physical PAN card is a laminated card with your PAN details printed on it. It is a physical document that can be carried and used as a valid identification proof. The physical PAN card is sent to the applicant's registered address by post.\\n\\nBoth e-PAN and physical PAN cards have the same validity and can be used for identification purposes. The choice between the two depends on the applicant's preference and requirements.\\n\\n### **Why do NRIs need PAN card?**\" metadata={'source': 'data/data.txt'}\n",
      "************************************************************************************************************************\n",
      "\n",
      "\n",
      "\n",
      "page_content='### **Why do NRIs need PAN card?**\\n\\nNRIS don’t need to have a PAN Card. However, a PAN Card is necessary for NRIs if they wish to do any of the following in India:\\n\\n1. A PAN card is required to carry out financial transactions such as opening a bank account, investing in stocks, purchasing or selling property, and investing in India.\\n\\n2. If an NRI earns an income in India, they must file income tax returns. A PAN card is necessary to file these returns.\\n\\n3. If an NRI wants to invest in mutual funds in India, they must have a PAN card.\\n\\n## Importance of PAN card for different NRI account options\\n\\nNRI Accounts comprise of NRE,NRO and FCNR Accounts. A basic overview to understand the importance of PAN Card with respect to these three accounts can be understood as:\\n\\n**NRE:**\\xa0For funds earned outside India where both Principal and Interest earned are tax-free. Therefore, NRIs can opt for Form 60, which is a substitute for PAN for opening an NRE Account.' metadata={'source': 'data/data.txt'}\n",
      "************************************************************************************************************************\n",
      "\n",
      "\n",
      "\n"
     ]
    }
   ],
   "source": [
    "from langchain.text_splitter import CharacterTextSplitter\n",
    "text_splitter = CharacterTextSplitter(\n",
    "    separator = \"\\n\\n\",\n",
    "    chunk_size = 1000,\n",
    "    chunk_overlap  = 200,\n",
    "    length_function = len,\n",
    ")\n",
    "texts = text_splitter.split_documents(doc)\n",
    "len(texts)\n",
    "for i in texts[:3]:\n",
    "    print(i)\n",
    "    print(\"**\"*60)\n",
    "    print('\\n\\n')"
   ]
  },
  {
   "cell_type": "markdown",
   "id": "4a158477-4842-4997-960d-88b954f65c6a",
   "metadata": {},
   "source": [
    "### Converting each para into embeddings \n",
    "1. Sentence transformers [384] dimensions\n",
    "2. Open AI [1536] dimensions"
   ]
  },
  {
   "cell_type": "code",
   "execution_count": 13,
   "id": "c75341ce-fedf-41de-a4b7-37180b76df57",
   "metadata": {},
   "outputs": [],
   "source": [
    "from langchain.embeddings import SentenceTransformerEmbeddings\n",
    "from langchain.embeddings import OpenAIEmbeddings\n",
    "\n",
    "# embeddings = SentenceTransformerEmbeddings(model_name=\"all-MiniLM-L6-v2\")\n",
    "embeddings = OpenAIEmbeddings()"
   ]
  },
  {
   "cell_type": "markdown",
   "id": "6cf523a7-6720-48c7-a933-d0923536ca34",
   "metadata": {},
   "source": [
    "#### Storing these Embeddings in Pinecone for fast retrieval \n",
    "Explored:\n",
    "1. Pinecone\n",
    "2. Faiss"
   ]
  },
  {
   "cell_type": "code",
   "execution_count": 14,
   "id": "3fa5c5c5-535f-4a6b-a2df-193006e8d38a",
   "metadata": {},
   "outputs": [
    {
     "name": "stderr",
     "output_type": "stream",
     "text": [
      "/Users/kanavanand/anaconda3/lib/python3.10/site-packages/pinecone/index.py:4: TqdmWarning: IProgress not found. Please update jupyter and ipywidgets. See https://ipywidgets.readthedocs.io/en/stable/user_install.html\n",
      "  from tqdm.autonotebook import tqdm\n"
     ]
    }
   ],
   "source": [
    "import pinecone\n",
    "from langchain.vectorstores import Pinecone\n",
    "\n",
    "pinecone.init(\n",
    "    api_key=os.environ.get('PINE_KEY'),\n",
    "    environment='us-west4-gcp-free'\n",
    ")\n",
    "\n",
    "index_name = 'openai'\n",
    "\n",
    "index = Pinecone.from_existing_index(index_name,embedding=embeddings)"
   ]
  },
  {
   "cell_type": "markdown",
   "id": "4a6d2e70-08ab-4679-83e0-b4fce508583a",
   "metadata": {},
   "source": [
    "#### Getting context from question"
   ]
  },
  {
   "cell_type": "code",
   "execution_count": 15,
   "id": "6c48eba5-01a8-49ce-a1a3-961834822841",
   "metadata": {},
   "outputs": [],
   "source": [
    "def get_similiar_docs(query,k=1,score=False):\n",
    "    if score:\n",
    "        similar_docs = index.similarity_search_with_score(query,k=k)\n",
    "    else:\n",
    "        similar_docs = index.similarity_search(query,k=k)\n",
    "    return similar_docs"
   ]
  },
  {
   "cell_type": "code",
   "execution_count": 16,
   "id": "5c3ebb11-fee8-4e2c-8e67-d8a0ad654921",
   "metadata": {},
   "outputs": [],
   "source": [
    "question=\"What are the charges for pan card details correction?\""
   ]
  },
  {
   "cell_type": "code",
   "execution_count": 17,
   "id": "2eb0233d-f5c3-4efb-a9aa-9131b9fa274f",
   "metadata": {},
   "outputs": [],
   "source": [
    "document = get_similiar_docs(question,1)[0]\n",
    "ctx=document.page_content"
   ]
  },
  {
   "cell_type": "code",
   "execution_count": 18,
   "id": "570fb645-e976-458b-a88e-75a06812ad11",
   "metadata": {},
   "outputs": [
    {
     "data": {
      "text/plain": [
       "Document(page_content='### Cost of new PAN card\\n\\nThe PAN CARD Application through ABC costs Rs 2500 for E-PAN, and if you want it to be couriered, it will cost Rs 1200 extra for physical delivery to your address.\\n\\n- e-PAN Card cost: INR 2500\\n- Physical PAN Card cost: INR 3700\\n\\n### Time required to issue PAN card\\n\\n****If you have Aadhaar card****\\n\\nYou can get a Pan Card instantly\\xa0**(in under 10 minutes)**, if you have an Aadhaar card. You can apply through ABC.\\n\\n********************************************************************If you don’t have an Aadhaar card********************************************************************\\n\\nOnce the payment is made to ABC, we will contact you and initiate the process. Pan card will be issued in 3 weeks.\\n\\n## Updation/Correction in the PAN Card\\n\\n### Information that can be updated in the PAN Card\\n\\n- Your name\\n- Father’s name\\n- Date of Birth\\n- Citizenship\\n- Photograph\\n- Signature\\n- Gender\\n- Address\\n- Contact details\\n\\n### General process to update details on PAN Card', metadata={'source': 'data/text.txt'})"
      ]
     },
     "execution_count": 18,
     "metadata": {},
     "output_type": "execute_result"
    }
   ],
   "source": [
    "document"
   ]
  },
  {
   "cell_type": "code",
   "execution_count": 59,
   "id": "b7882c86-720e-4503-9b00-3bb1bb8e3fa9",
   "metadata": {},
   "outputs": [],
   "source": [
    "from langchain import PromptTemplate\n",
    "\n",
    "question_prompt_template = \"\"\"\n",
    "                    Answer eloboratively the question using the provided context and answer it in {language}. \\n\\n\n",
    "                    Context: \\n {context} \\n\n",
    "                    Question: \\n {question} \\n\n",
    "                    Answer:\n",
    "                    \"\"\"\n",
    "\n",
    "\n",
    "\n",
    "question_prompt = PromptTemplate(\n",
    "    template=question_prompt_template, input_variables=[\"context\", \"question\",\"language\"]\n",
    ")"
   ]
  },
  {
   "cell_type": "code",
   "execution_count": 60,
   "id": "024112b0-a833-4c45-9c82-3422530ab659",
   "metadata": {},
   "outputs": [],
   "source": [
    "question=\"What are the charges for pan card details correction?\""
   ]
  },
  {
   "cell_type": "markdown",
   "id": "f77208eb-8ca3-4d31-8cbb-d4e417507f06",
   "metadata": {},
   "source": [
    "### Defining LLM model"
   ]
  },
  {
   "cell_type": "code",
   "execution_count": 61,
   "id": "63743856-d5a8-4ffb-b29f-3a4750b664cd",
   "metadata": {},
   "outputs": [],
   "source": [
    "from langchain.chains import LLMChain\n",
    "from langchain.chat_models import ChatOpenAI\n",
    "\n",
    "llm = ChatOpenAI(model_name=\"gpt-3.5-turbo\", openai_api_key=os.environ.get('OPEN_API_KEY'))\n",
    "chain = LLMChain(llm=llm , prompt=question_prompt)"
   ]
  },
  {
   "cell_type": "markdown",
   "id": "dec57e5b-1528-41bc-9966-e8c52a17ba39",
   "metadata": {},
   "source": [
    "### Final RAG for answering "
   ]
  },
  {
   "cell_type": "code",
   "execution_count": 62,
   "id": "1b8efbb0-5eb5-4a5a-84cd-082932af122c",
   "metadata": {},
   "outputs": [],
   "source": [
    "def RAG(question):\n",
    "    document = get_similiar_docs(question,1)[0]\n",
    "    ctx=document.page_content\n",
    "    return chain.run({\"context\":ctx,\"question\":question,\"language\":\"english\"})\n"
   ]
  },
  {
   "cell_type": "code",
   "execution_count": 72,
   "id": "364069b6-06d1-43bf-8d54-f1dcaf714af9",
   "metadata": {},
   "outputs": [],
   "source": [
    "def sampleQuestion(idx):\n",
    "    question = data.Question.values[idx]+'?'\n",
    "\n",
    "    document = get_similiar_docs(question,1)[0]\n",
    "    ctx=document.page_content\n",
    "\n",
    "    answer = RAG(question)\n",
    "    print(question)\n",
    "    print('\\n')\n",
    "    print(answer)\n",
    "    "
   ]
  },
  {
   "cell_type": "code",
   "execution_count": 23,
   "id": "f42bb791-06cc-4bc2-8aee-6d868f80aa63",
   "metadata": {},
   "outputs": [
    {
     "data": {
      "text/plain": [
       "'### Cost of new PAN card\\n\\nThe PAN CARD Application through ABC costs Rs 2500 for E-PAN, and if you want it to be couriered, it will cost Rs 1200 extra for physical delivery to your address.\\n\\n- e-PAN Card cost: INR 2500\\n- Physical PAN Card cost: INR 3700\\n\\n### Time required to issue PAN card\\n\\n****If you have Aadhaar card****\\n\\nYou can get a Pan Card instantly\\xa0**(in under 10 minutes)**, if you have an Aadhaar card. You can apply through ABC.\\n\\n********************************************************************If you don’t have an Aadhaar card********************************************************************\\n\\nOnce the payment is made to ABC, we will contact you and initiate the process. Pan card will be issued in 3 weeks.\\n\\n## Updation/Correction in the PAN Card\\n\\n### Information that can be updated in the PAN Card\\n\\n- Your name\\n- Father’s name\\n- Date of Birth\\n- Citizenship\\n- Photograph\\n- Signature\\n- Gender\\n- Address\\n- Contact details\\n\\n### General process to update details on PAN Card'"
      ]
     },
     "execution_count": 23,
     "metadata": {},
     "output_type": "execute_result"
    }
   ],
   "source": [
    "ctx"
   ]
  },
  {
   "cell_type": "markdown",
   "id": "e3762ee3-fb98-4b23-be3b-848e81514104",
   "metadata": {},
   "source": [
    "## Output"
   ]
  },
  {
   "cell_type": "code",
   "execution_count": 69,
   "id": "a097282a-d9c3-403f-82f0-3c31ad59f6e1",
   "metadata": {},
   "outputs": [
    {
     "name": "stdout",
     "output_type": "stream",
     "text": [
      "What are the documents required to apply for the new pan?\n",
      "\n",
      "\n",
      "The documents required to apply for a new PAN card are:\n",
      "1. If you have an Aadhaar card, no other document is required. You can get your PAN card through your Aadhaar card in 10 minutes.\n",
      "2. If you don't have an Aadhaar card, the following documents are required:\n",
      "   - Passport (Any Country) or OCI Card\n",
      "   - Passport Size Photograph\n",
      "   - Overseas address proof with zip code (Supporting documents - Indian NRO/NRE Account statement or Overseas bank statement or Utility bill)\n"
     ]
    }
   ],
   "source": [
    "sampleQuestion(0)"
   ]
  },
  {
   "cell_type": "code",
   "execution_count": 73,
   "id": "e4e97eb6-3e55-4007-af14-338d7cec417f",
   "metadata": {},
   "outputs": [
    {
     "name": "stdout",
     "output_type": "stream",
     "text": [
      "Can I take the delivery of Pan card at Indian address?\n",
      "\n",
      "\n",
      "Yes, you can take the delivery of your PAN card at an Indian address. While applying for a new PAN card or requesting corrections, you can provide your Indian address as the delivery address. It is important to provide accurate and complete address details to ensure successful delivery.\n"
     ]
    }
   ],
   "source": [
    "sampleQuestion(2)"
   ]
  },
  {
   "cell_type": "code",
   "execution_count": 74,
   "id": "a4b6d052-f986-4812-b68f-841f9cfb0746",
   "metadata": {},
   "outputs": [
    {
     "name": "stdout",
     "output_type": "stream",
     "text": [
      "How long does it usually take to receive the PAN card after applying??\n",
      "\n",
      "\n",
      "The provided context does not mention the specific time required to receive the PAN card after applying.\n"
     ]
    }
   ],
   "source": [
    "sampleQuestion(3)"
   ]
  },
  {
   "cell_type": "code",
   "execution_count": 75,
   "id": "478ea91c-b0ee-45b2-833f-b35a1e3f7703",
   "metadata": {},
   "outputs": [
    {
     "name": "stdout",
     "output_type": "stream",
     "text": [
      "Why do NRIs need PAN card??\n",
      "\n",
      "\n",
      "NRIs need a PAN card for several reasons. Firstly, if they wish to carry out any financial transactions in India such as opening a bank account, investing in stocks, purchasing or selling property, or investing in India, a PAN card is required. This is because the PAN card serves as a unique identification number for individuals in India and is necessary for any financial transaction.\n",
      "\n",
      "Secondly, if an NRI earns an income in India, they are required to file income tax returns. In order to do so, they must have a PAN card. The PAN card is used to link the individual's income and tax payments, ensuring proper taxation and compliance with Indian tax laws.\n",
      "\n",
      "Additionally, if an NRI wants to invest in mutual funds in India, they must possess a PAN card. This is because mutual fund investments are regulated by the Securities and Exchange Board of India (SEBI), and a PAN card is one of the required documents for investing in mutual funds.\n",
      "\n",
      "It is important to note that while NRIs don't necessarily need a PAN card for all their financial activities, it is necessary for specific transactions and investments in India. The PAN card helps the Indian government keep track of financial transactions and ensures that NRIs are complying with tax laws and regulations.\n"
     ]
    }
   ],
   "source": [
    "sampleQuestion(14)"
   ]
  },
  {
   "cell_type": "code",
   "execution_count": 24,
   "id": "db854fb6-cdb0-43f2-b60f-f213e03c805c",
   "metadata": {},
   "outputs": [],
   "source": [
    "def sampleQuestion(idx):\n",
    "    question = data.Question.values[idx]+'?'\n",
    "\n",
    "    document = get_similiar_docs(question,1)[0]\n",
    "    ctx=document.page_content\n",
    "\n",
    "    answer = RAG(question)\n",
    "    return answer\n",
    "    "
   ]
  },
  {
   "cell_type": "code",
   "execution_count": 27,
   "id": "3ecf638d-bafb-4a39-87ae-d3025b22fa3d",
   "metadata": {},
   "outputs": [
    {
     "name": "stdout",
     "output_type": "stream",
     "text": [
      "The documents required to apply for a new PAN card are as follows:\n",
      "\n",
      "1. Passport (Any Country) / OCI Card: This serves as proof of identity for the applicant.\n",
      "2. Passport Size Photograph: A recent photograph of the applicant is needed for the PAN card application.\n",
      "3. Overseas address proof with zip code: The applicant must provide a document that proves their overseas address. This can be supported by an Indian NRO/NRE Account statement, overseas bank statement, or utility bill.\n",
      "\n",
      "If the applicant has an Aadhaar card, no other documents are required. They can apply for a PAN card using their Aadhaar card and receive it within 10 minutes. However, if they do not have an Aadhaar card, they must provide the aforementioned documents to complete the PAN card application process.\n",
      "The cost of a PAN card depends on whether you opt for an e-PAN card or a physical PAN card. If you choose to apply for an e-PAN card through ABC, it will cost you INR 2500. However, if you want the physical PAN card to be couriered to your address, there will be an additional cost of INR 1200, making the total cost INR 3700.\n",
      "\n",
      "It is important to note that these costs are applicable if you are applying for a new PAN card. If you need to update or correct any details on your existing PAN card, there may be a separate process and fees involved.\n",
      "Yes, you can take the delivery of your PAN card at an Indian address. While applying for a new PAN card or requesting corrections, you can provide your Indian address as the delivery address. It is important to provide accurate and complete address details to ensure successful delivery.\n",
      "The time it typically takes to receive the PAN card after applying can vary. In general, it takes around 2-3 weeks for the process of reprinting a lost PAN card to be completed. However, this timeframe is an estimate and can be influenced by factors such as the workload of the authorities and their responsiveness. It is important to note that this timeframe can vary and there may be instances where it takes longer or shorter to receive the PAN card.\n",
      "To apply for a PAN card, you can follow these steps:\n",
      "\n",
      "1. Visit the ABC app.\n",
      "2. Navigate to Services > NRI Pan Card > Apply New PAN.\n",
      "3. Select the required form of PAN card and proceed with the payment.\n",
      "4. Once you have completed the payment, our team will reach out to you to request the necessary documents.\n",
      "5. If you have an Aadhaar card, no other documents are required. You can obtain your PAN card using your Aadhaar card in just 10 minutes.\n",
      "6. However, if you do not have an Aadhaar card, you will need to provide the following documents:\n",
      "   - Passport (from any country) or OCI Card.\n",
      "   - Passport size photograph.\n",
      "   - Overseas address proof with zip code. This can be supported by documents such as an Indian NRO/NRE account statement, overseas bank statement, or utility bill.\n",
      "\n",
      "By following these steps and providing the required documents, you can successfully apply for a PAN card.\n",
      "The process to apply for a PAN card involves the following steps:\n",
      "\n",
      "1. Visit the ABC app or website.\n",
      "2. Navigate to the Services section and select NRI Pan Card.\n",
      "3. Choose the option to apply for a new PAN card.\n",
      "4. Select the type of PAN card you need and proceed to make the payment.\n",
      "5. After the payment, our team will contact you to request the necessary documents.\n",
      "6. If you have an Aadhaar card, no other documents are required. You can get your PAN card in just 10 minutes using your Aadhaar card.\n",
      "7. If you don't have an Aadhaar card, you will need to provide the following documents:\n",
      "   - Passport (from any country) or OCI Card\n",
      "   - Passport Size Photograph\n",
      "   - Overseas address proof with zip code (such as Indian NRO/NRE Account statement, overseas bank statement, or utility bill)\n",
      "\n",
      "Once you have submitted all the required documents, your PAN card application will be processed.\n",
      "Yes, as mentioned in the context, you can apply for a PAN card if you are a non-resident Indian (NRI). The process for applying for a PAN card is the same for both residents and NRIs. However, if you are an OCI holder or a person of Indian origin who holds foreign citizenship, you will need to fill Form 49AA to apply for a PAN card.\n",
      "Yes, NRIs can apply for a PAN card without an Aadhaar card. They can do so by filling out either Form 49A (for citizens of India) or Form 49AA (for foreign citizens).\n",
      "The charges for linking Pan and Aadhaar are INR 2000, which includes penalty charges for any delay in linking Pan and Aadhaar.\n",
      "Pan and Aadhaar linking can take up to 6 to 7 days for NRIs.\n",
      "No, Aadhaar-PAN linking is not mandatory for NRIs. However, it is recommended for NRIs to link their PAN to Aadhaar or update their status as non-resident to avoid any legal complications in India.\n",
      "The linking process can be done online. NRIs do not need to visit a service center. ABC can assist NRIs digitally in linking their PAN and Aadhaar cards without the need for them to physically visit India.\n",
      "All individuals/non-individuals (including foreign citizens/entities) earning taxable income in India must have a PAN card.\n",
      "There are two types of PAN cards available in India: e-PAN card and physical PAN card. The e-PAN card is a digitally-signed PAN card issued in electronic format, while the physical PAN card is a laminated card with PAN details printed on it. Both types of PAN cards have the same validity and can be used for identification purposes. The choice between the two depends on the applicant's preference and requirements.\n",
      "NRIs need a PAN card for several reasons. Firstly, if they wish to carry out any financial transactions in India such as opening a bank account, investing in stocks, purchasing or selling property, or investing in India, they need a PAN card. This is because the PAN card serves as a unique identification number for individuals and is required for these types of transactions.\n",
      "\n",
      "Secondly, if an NRI earns an income in India, they are required to file income tax returns. In order to do this, they must have a PAN card. The PAN card helps the government track and monitor an individual's income and tax liabilities. Therefore, NRIs need a PAN card to comply with the income tax regulations in India.\n",
      "\n",
      "Additionally, if an NRI wants to invest in mutual funds in India, they must have a PAN card. Mutual funds are regulated by the Securities and Exchange Board of India (SEBI), and having a PAN card is a mandatory requirement for investing in mutual funds.\n",
      "\n",
      "It is important to note that while NRIs don't necessarily need a PAN card for opening an NRE account, they can opt for Form 60 as a substitute. However, for other financial transactions and investments, a PAN card is necessary.\n",
      "\n",
      "In summary, NRIs need a PAN card for financial transactions, filing income tax returns, and investing in mutual funds in India. It serves as a vital identification document and helps the government track and regulate financial activities of NRIs in India.\n",
      "Yes, a PAN card is required to open an NRI account. However, for an NRE account, NRIs can opt for Form 60 as a substitute for PAN.\n",
      "An NRI can apply for a new PAN card by following these steps:\n",
      "\n",
      "1. Visit the ABC app.\n",
      "2. Navigate to Services > NRI Pan Card > Apply New PAN.\n",
      "3. Select the required form of PAN card and proceed with the payment.\n",
      "4. Our team will then get in touch with you to ask for the necessary documents.\n",
      "   - If you have an Aadhaar card, no other document is required and you can get your PAN card through your Aadhaar card in just 10 minutes.\n",
      "   - If you don't have an Aadhaar card, you will need to provide the following documents:\n",
      "     - Passport (Any Country) / OCI Card.\n",
      "     - Passport Size Photograph.\n",
      "     - Overseas address proof with zip code, which can be supported by documents such as Indian NRO/NRE Account statement, overseas bank statement, or utility bill.\n",
      "\n",
      "By following these steps and providing the required documents, an NRI can apply for a new PAN card.\n",
      "To update the details on your PAN card, you need to follow a general process. Firstly, you have to generate a reissue request for the updation or correction of your PAN card. This can be done by going to the ABC app and navigating to the Services section. From there, select NRI PAN Card and then choose PAN Card Correction.\n",
      "\n",
      "Once you have selected the correction option, you will need to request a reissue of the required PAN card and make the necessary payment. After this, our team will reach out to you and provide you with the required documents that need to be submitted for the update.\n",
      "\n",
      "The time required to complete the correction process for your PAN card can vary, but it generally takes around 2-3 weeks. During this time, the necessary changes and updates will be made to your PAN card.\n",
      "\n",
      "To update the information on your PAN card, you will need to have certain documents ready. These documents may include your name, father's name, date of birth, citizenship, photograph, signature, gender, address, and contact details. These documents will be required to verify and authenticate the updated information on your PAN card.\n",
      "\n",
      "Overall, the process to update details on your PAN card involves generating a reissue request, providing the necessary documents, and waiting for the updates to be made. It is important to ensure that all the information provided is accurate and up to date to avoid any issues or delays in the process.\n",
      "To change the citizenship on your PAN Card, you need to meet and notify your jurisdictional Assessing Officer. However, for NRIs, it can be difficult to personally meet the assessing officer. In such cases, ABC can assist you by meeting or notifying the jurisdictional assessing officer on your behalf. ABC is a tax expert agency that specializes in helping individuals with their PAN card-related matters.\n",
      "\n",
      "The process to change your citizenship on your PAN Card generally takes around a month to complete. However, the duration may vary depending on factors such as the workload of the authorities and their responsiveness. It is important to note that you will need to provide certain documents and information to authenticate your new citizenship status.\n",
      "\n",
      "If you have lost your PAN card and need to reprint it, there is a separate procedure to follow. Reprinting a lost PAN card requires providing specific documents and information to authenticate your identity. The process usually takes around 2-3 weeks to complete. You can apply for a reprint through ABC, and they will guide you through the process and help you obtain a new copy of your PAN card.\n",
      "The time required to update the citizenship status on a PAN card can vary, but generally, it takes around a month to complete the process. However, this duration can be influenced by factors such as workload and the responsiveness of the authorities. It is important to notify your jurisdictional Assessing Officer about the change in citizenship, and for NRIs, it may be challenging to meet the officer in person. In such cases, ABC can assist by meeting or notifying the assessing officer on your behalf. To change your citizenship on a PAN card, it is advisable to contact a tax expert at ABC who can guide you through the process and provide further assistance.\n",
      "To link your PAN card with Aadhaar, you can follow the process outlined in the provided context. \n",
      "\n",
      "First, go to the ABC app and navigate to Services > NRI PAN Card > Link PAN with Aadhaar. From there, you can request a reissue of the required PAN card and make the payment. The ABC team will then reach out to you for the necessary documents.\n",
      "\n",
      "Alternatively, you can also initiate the process on WhatsApp.\n",
      "\n",
      "The fees for linking PAN with Aadhaar through ABC is INR 2000, which includes penalty charges for any delay in linking.\n",
      "\n",
      "To link PAN with Aadhaar, you will need to provide a copy of your PAN card and Aadhaar card. Once you share these documents, ABC will review them and send you a payment link for the linking process.\n",
      "\n",
      "It's important to note that the deadline for linking Aadhaar with PAN is 30th June 2023. After this date, if your PAN is not linked with Aadhaar, it will become inoperative.\n",
      "\n",
      "For NRIs, the PAN Aadhaar linking process takes approximately 6 to 7 days.\n",
      "The provided context does not mention the specific documents required to link PAN with Aadhaar. It only mentions the process of linking PAN with Aadhaar, which includes visiting the ABC app, navigating to the NRI PAN Card section, requesting the reissue of the required PAN card, making the payment, and having the team reach out for the required documents. Therefore, the specific documents required to link PAN with Aadhaar are not mentioned in the given context.\n",
      "To change your Father's name on your PAN card, you will need to follow the general process of updating details on your PAN card. Here are the steps:\n",
      "\n",
      "1. Go to the ABC app or website.\n",
      "2. Navigate to the Services section and select NRI PAN Card.\n",
      "3. Look for the option of PAN Card Correction and click on it.\n",
      "4. Fill in the required details, including your name, father's name, and other necessary information.\n",
      "5. Request reissue of the PAN card with the updated father's name.\n",
      "6. Make the payment for the reissue request.\n",
      "7. Once your request is submitted, our team will reach out to you for the required documents.\n",
      "\n",
      "Please note that the specific documents required may vary, but typically you will need to provide proof of the updated father's name, such as a birth certificate or marriage certificate.\n",
      "\n",
      "The time required to complete the correction process for your PAN card can vary, but it generally takes around 2-3 weeks. During this time, your request will be processed, and the updated PAN card will be issued with the correct father's name.\n",
      "\n",
      "If you would like to start the process immediately, you can click the button provided below.\n",
      "To change your Date of Birth (DOB) on your PAN card, you will need to follow the general process of updating details on the PAN card. Here is the step-by-step process:\n",
      "\n",
      "1. Go to the ABC app or website.\n",
      "2. Navigate to the Services section and select \"NRI PAN Card\".\n",
      "3. Click on \"PAN Card Correction\" to request a reissue of your PAN card.\n",
      "4. Fill in the required details, including your new Date of Birth.\n",
      "5. Make the payment for the PAN card correction request.\n",
      "6. Once your request is submitted, our team will reach out to you for the required documents.\n",
      "7. Prepare the necessary documents for updating your DOB on the PAN card.\n",
      "8. Submit the documents to our team as per their instructions.\n",
      "\n",
      "The time required to complete the correction process for your PAN card can vary, but it generally takes around 2-3 weeks. During this time, our team will verify your documents and process the update request. Once the update is completed, you will receive your new PAN card with the updated Date of Birth.\n",
      "\n",
      "Please note that the specific documents required for updating your DOB on the PAN card may vary depending on the jurisdiction and guidelines set by the government. It is advisable to keep the necessary documents ready, such as your birth certificate or any other supporting documents that prove your correct Date of Birth.\n",
      "No, your PAN number does not change when you request a reissue of your PAN card. The purpose of updating the details on your PAN card is to correct any errors or outdated information. Your PAN number remains the same throughout the process.\n",
      "The documents required to update the details on your PAN card for correction are not mentioned in the given context. However, it is recommended to keep the following documents ready:\n",
      "\n",
      "1. Proof of Identity (PoI): This can include a copy of your Aadhaar card, passport, voter ID card, driving license, or any other government-issued identity proof.\n",
      "\n",
      "2. Proof of Address (PoA): This can include a copy of your Aadhaar card, passport, voter ID card, driving license, utility bills (electricity bill, telephone bill, etc.), or any other government-issued address proof.\n",
      "\n",
      "3. Proof of Date of Birth (DoB): This can include a copy of your birth certificate, Aadhaar card, passport, or any other government-issued document that states your date of birth.\n",
      "\n",
      "4. Recent passport-sized photographs: You may need to provide a few recent passport-sized photographs for updating your PAN card details.\n",
      "\n",
      "5. Any other supporting documents: Depending on the specific details you want to update, you may be required to provide additional supporting documents. For example, if you want to update your name, you may need to provide a marriage certificate or a gazette notification for a name change.\n",
      "\n",
      "It is important to note that the exact document requirements may vary depending on the nature of the correction or update you wish to make. It is advisable to check the official website of the PAN card issuing authority or consult with a professional to ensure you have all the necessary documents before proceeding with the correction process.\n",
      "The provided context does not mention the charges for PAN card details correction. Therefore, the charges for pan card details correction are not specified in the given information.\n",
      "To reprint your PAN card, you will need to follow the process mentioned below:\n",
      "\n",
      "1. If you remember your PAN number:\n",
      "   - Gather the following documents:\n",
      "     - Pan number\n",
      "     - Passport (Any Country) / OCI Card\n",
      "     - Passport Size Photograph\n",
      "     - Overseas address proof with zip code (Supporting documents - Indian NRO/NRE Account statement or Overseas bank statement or Utility bill)\n",
      "   - Once you have these documents ready, you can proceed to the next step.\n",
      "\n",
      "2. If you don't remember your PAN number:\n",
      "   - This situation can be a bit tricky, so our representative will reach out to you to inform you about the process.\n",
      "   - They will guide you through the necessary steps to reprint your PAN card.\n",
      "\n",
      "3. Charges for reprinting the PAN Card:\n",
      "   - The charges for reprinting the PAN Card are INR 2500 for e-PAN and INR 3700 for a physical PAN card.\n",
      "\n",
      "To initiate the process of reprinting your PAN card, you can visit the ABC app. From there, navigate to Services > NRI PAN Card > Link PAN with Aadhaar. This will allow you to request the reissue of the required PAN card and make the payment. After that, our team will reach out to you to collect the required documents.\n",
      "\n",
      "Please note that if you have any further questions or need assistance during the process, our representatives will be there to guide you.\n",
      "The documents required for reprinting the PAN card are as follows:\n",
      "\n",
      "1. If you remember your PAN number:\n",
      "- Pan number\n",
      "- Passport (Any Country) / OCI Card\n",
      "- Passport Size Photograph\n",
      "- Overseas address proof with zip code (Supporting documents - Indian NRO/NRE Account statement or Overseas bank statement or Utility bill)\n",
      "\n",
      "2. If you don't remember your PAN number:\n",
      "In this case, it is not specified what documents are required. It is mentioned that a representative will reach out to inform you about the process. Therefore, it is best to wait for the representative to provide guidance on the documents needed for reprinting the PAN card.\n",
      "\n",
      "Please note that the information provided above is based on the given context and may vary depending on the specific requirements of the issuing authority. It is always advisable to check with the relevant authorities for the most accurate and up-to-date information.\n",
      "The process for reprinting a PAN card generally takes around 2-3 weeks to complete. However, the duration can vary based on factors such as workload and the responsiveness of the authorities. It is recommended to contact a tax expert at ABC who can guide you through the process and help you obtain a new copy of your PAN card. They will be able to provide more accurate information regarding the specific timeline for your case.\n",
      "The charges for reprinting the PAN Card are INR 2500 for e-pan, and INR 3700 for physical pan card.\n",
      "Yes, you can take the delivery of your PAN card at an Indian address. When applying for a new PAN card or requesting corrections, you have the option to provide your Indian address as the delivery address. It is important to provide accurate and complete address details to ensure successful delivery.\n",
      "Yes, NRIs can apply for a PAN card without an Aadhaar Card. They can simply do so by filling out either of the forms – 49A (for citizens of India) or Form 49AA (for foreign citizens).\n",
      "Yes, as stated in the context, you can apply for a PAN card if you are a non-resident Indian (NRI). The process for applying for a PAN card is the same for both residents and NRIs. However, if you are an OCI holder or a person of Indian origin who holds foreign citizenship, you will need to fill Form 49AA to apply for a PAN card.\n"
     ]
    }
   ],
   "source": [
    "results=[]\n",
    "for i in data.index:\n",
    "    ans = sampleQuestion(i)\n",
    "    print(ans)\n",
    "    results.append(ans)"
   ]
  },
  {
   "cell_type": "code",
   "execution_count": 28,
   "id": "49cb2944-a114-4f43-86f4-af3ce4367b63",
   "metadata": {},
   "outputs": [],
   "source": [
    "data['modelPrediction'] = results"
   ]
  },
  {
   "cell_type": "code",
   "execution_count": 29,
   "id": "24041ce9-0f33-491f-b9b5-3d3f57f97de5",
   "metadata": {},
   "outputs": [],
   "source": [
    "data.to_csv('results/openai_results.csv',index=None)"
   ]
  },
  {
   "cell_type": "markdown",
   "id": "1f341dce-5733-4c19-a868-f7a3efeeaae4",
   "metadata": {},
   "source": [
    "## Evaluating results"
   ]
  },
  {
   "cell_type": "code",
   "execution_count": 30,
   "id": "d7f216af-1cb2-4a29-bd38-0f947e78dee2",
   "metadata": {},
   "outputs": [],
   "source": [
    "import nltk\n",
    "from nltk.translate.bleu_score import sentence_bleu\n",
    "\n",
    "def bleu_scorer(reference,candidate):\n",
    "    # Convert sentences to lists of tokens\n",
    "    reference_tokens = [reference.split()]\n",
    "    candidate_tokens = candidate.split()\n",
    "\n",
    "    # Calculate BLEU score\n",
    "    bleu_score = sentence_bleu(reference_tokens, candidate_tokens)\n",
    "\n",
    "    return bleu_score\n"
   ]
  },
  {
   "cell_type": "code",
   "execution_count": 31,
   "id": "0cd201b1-ecab-49f0-9a1d-c837a0236f2c",
   "metadata": {},
   "outputs": [
    {
     "name": "stderr",
     "output_type": "stream",
     "text": [
      "/Users/kanavanand/anaconda3/lib/python3.10/site-packages/nltk/translate/bleu_score.py:552: UserWarning: \n",
      "The hypothesis contains 0 counts of 3-gram overlaps.\n",
      "Therefore the BLEU score evaluates to 0, independently of\n",
      "how many N-gram overlaps of lower order it contains.\n",
      "Consider using lower n-gram order or use SmoothingFunction()\n",
      "  warnings.warn(_msg)\n",
      "/Users/kanavanand/anaconda3/lib/python3.10/site-packages/nltk/translate/bleu_score.py:552: UserWarning: \n",
      "The hypothesis contains 0 counts of 4-gram overlaps.\n",
      "Therefore the BLEU score evaluates to 0, independently of\n",
      "how many N-gram overlaps of lower order it contains.\n",
      "Consider using lower n-gram order or use SmoothingFunction()\n",
      "  warnings.warn(_msg)\n"
     ]
    }
   ],
   "source": [
    "score =[]\n",
    "for i in data.values:\n",
    "    score.append(bleu_scorer(i[1].lower(),i[2].lower()))"
   ]
  },
  {
   "cell_type": "code",
   "execution_count": 32,
   "id": "13e7e86e-fa13-4524-b4de-cf62d83acf27",
   "metadata": {},
   "outputs": [],
   "source": [
    "data['bleu_score'] = score"
   ]
  },
  {
   "cell_type": "code",
   "execution_count": 33,
   "id": "d777a6d6-5e6e-46e2-ab52-db63525c8445",
   "metadata": {},
   "outputs": [
    {
     "data": {
      "text/plain": [
       "0.30936166445636093"
      ]
     },
     "execution_count": 33,
     "metadata": {},
     "output_type": "execute_result"
    }
   ],
   "source": [
    "data.bleu_score.mean()"
   ]
  },
  {
   "cell_type": "code",
   "execution_count": 54,
   "id": "d44c7bbe-b67f-436b-ac17-69528a3144a9",
   "metadata": {},
   "outputs": [],
   "source": [
    "import nltk\n",
    "from nltk.translate.bleu_score import sentence_bleu\n",
    "from nltk.translate import gleu_score\n",
    "\n",
    "\n",
    "def gleu_scorer(reference,candidate):\n",
    "    # Tokenize sentences\n",
    "    reference_tokens = reference.split()\n",
    "    candidate_tokens = candidate.split()\n",
    "\n",
    "    # Calculate GLEU score\n",
    "    gleu_score_ = gleu_score.sentence_gleu([reference_tokens], candidate_tokens)\n",
    "\n",
    "    return gleu_score_\n"
   ]
  },
  {
   "cell_type": "code",
   "execution_count": 55,
   "id": "1bd3bc5d-c49d-4400-9fc0-e272ccfc6bf3",
   "metadata": {},
   "outputs": [],
   "source": [
    "score =[]\n",
    "for i in data.values:\n",
    "    score.append(gleu_scorer(i[1].lower(),i[2].lower()))\n",
    "data['gleu_score'] = score"
   ]
  },
  {
   "cell_type": "code",
   "execution_count": 56,
   "id": "cf8b4978-3439-4c6c-a84a-1c33064751ef",
   "metadata": {},
   "outputs": [
    {
     "data": {
      "text/plain": [
       "0.338364408798228"
      ]
     },
     "execution_count": 56,
     "metadata": {},
     "output_type": "execute_result"
    }
   ],
   "source": [
    "data.gleu_score.mean()"
   ]
  },
  {
   "cell_type": "code",
   "execution_count": 35,
   "id": "499934b1-3a92-4f0a-8844-c72c86e8832a",
   "metadata": {},
   "outputs": [],
   "source": [
    "data.to_csv('results/openai_results.csv',index=None)"
   ]
  },
  {
   "cell_type": "markdown",
   "id": "0322dba3-9975-4e63-9f5a-aef02ff7a3ed",
   "metadata": {},
   "source": [
    "## Adding multilinguality layer"
   ]
  },
  {
   "cell_type": "code",
   "execution_count": 64,
   "id": "5c7bc49e-d2d2-482c-89a3-f2cbcbe696b2",
   "metadata": {},
   "outputs": [],
   "source": [
    "def RAG_lingual(question,language):\n",
    "    document = get_similiar_docs(question,1)[0]\n",
    "    ctx=document.page_content\n",
    "    return chain.run({\"context\":ctx,\"question\":question,\"language\":language})\n"
   ]
  },
  {
   "cell_type": "code",
   "execution_count": 65,
   "id": "52f71a68-fac2-4680-9b0f-1cbe9a47460b",
   "metadata": {},
   "outputs": [],
   "source": [
    "def sampleQuestion(idx,language):\n",
    "    question = data.Question.values[idx]+'?'\n",
    "\n",
    "    document = get_similiar_docs(question,1)[0]\n",
    "    ctx=document.page_content\n",
    "\n",
    "    answer = RAG_lingual(question,language)\n",
    "    return answer\n",
    "    "
   ]
  },
  {
   "cell_type": "code",
   "execution_count": 72,
   "id": "893e0c9c-d8a7-4447-9cf6-7bab10324ccd",
   "metadata": {},
   "outputs": [
    {
     "data": {
      "text/plain": [
       "'What are the documents required to apply for the new pan'"
      ]
     },
     "execution_count": 72,
     "metadata": {},
     "output_type": "execute_result"
    }
   ],
   "source": [
    "data.values[0][0]"
   ]
  },
  {
   "cell_type": "code",
   "execution_count": 68,
   "id": "697cb82f-19bf-4e31-a9bf-4ffcc54c8b5d",
   "metadata": {},
   "outputs": [
    {
     "data": {
      "text/plain": [
       "' \\n\\nनए पैन कार्ड के लिए आवेदन करने के लिए आवश्यक दस्तावेज़ हैं:\\n\\n- आधार कार्ड (यदि उपलब्ध है)\\n- पासपोर्ट (किसी भी देश का) या OCI कार्ड\\n- पासपोर्ट साइज़ फ़ोटो\\n- ज़िप कोड के साथ विदेशी पता प्रमाण (समर्थन दस्तावेज़ - भारतीय एनआरओ / एनआरई खाता विवरण या विदेशी बैंक विवरण या उपयोगिता बिल)'"
      ]
     },
     "execution_count": 68,
     "metadata": {},
     "output_type": "execute_result"
    }
   ],
   "source": [
    "sampleQuestion(0,'hindi')"
   ]
  }
 ],
 "metadata": {
  "kernelspec": {
   "display_name": "Python 3 (ipykernel)",
   "language": "python",
   "name": "python3"
  },
  "language_info": {
   "codemirror_mode": {
    "name": "ipython",
    "version": 3
   },
   "file_extension": ".py",
   "mimetype": "text/x-python",
   "name": "python",
   "nbconvert_exporter": "python",
   "pygments_lexer": "ipython3",
   "version": "3.10.9"
  }
 },
 "nbformat": 4,
 "nbformat_minor": 5
}
